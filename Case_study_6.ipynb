{
  "cells": [
    {
      "cell_type": "code",
      "execution_count": null,
      "id": "5955a96e",
      "metadata": {
        "id": "5955a96e"
      },
      "outputs": [],
      "source": [
        "import numpy as np\n",
        "import pandas as pd\n",
        "import matplotlib.pyplot as plt"
      ]
    },
    {
      "cell_type": "markdown",
      "id": "f2fdb838",
      "metadata": {
        "id": "f2fdb838"
      },
      "source": [
        "### 1.Load the dataset into python environment"
      ]
    },
    {
      "cell_type": "code",
      "execution_count": null,
      "id": "f2ba543f",
      "metadata": {
        "id": "f2ba543f"
      },
      "outputs": [],
      "source": [
        "df=pd.read_csv(r\"C:\\Users\\ashwa\\Downloads\\titanic_dataset.csv\")"
      ]
    },
    {
      "cell_type": "markdown",
      "id": "13de3ecc",
      "metadata": {
        "id": "13de3ecc"
      },
      "source": [
        "### 2. Make ‘PassengerId’ as the index column"
      ]
    },
    {
      "cell_type": "code",
      "execution_count": null,
      "id": "ebed1918",
      "metadata": {
        "scrolled": false,
        "id": "ebed1918",
        "outputId": "5e57401b-ff29-4493-ead1-f194d75b8920"
      },
      "outputs": [
        {
          "data": {
            "text/html": [
              "<div>\n",
              "<style scoped>\n",
              "    .dataframe tbody tr th:only-of-type {\n",
              "        vertical-align: middle;\n",
              "    }\n",
              "\n",
              "    .dataframe tbody tr th {\n",
              "        vertical-align: top;\n",
              "    }\n",
              "\n",
              "    .dataframe thead th {\n",
              "        text-align: right;\n",
              "    }\n",
              "</style>\n",
              "<table border=\"1\" class=\"dataframe\">\n",
              "  <thead>\n",
              "    <tr style=\"text-align: right;\">\n",
              "      <th></th>\n",
              "      <th>Survived</th>\n",
              "      <th>Pclass</th>\n",
              "      <th>Name</th>\n",
              "      <th>Sex</th>\n",
              "      <th>Age</th>\n",
              "      <th>SibSp</th>\n",
              "      <th>Parch</th>\n",
              "      <th>Ticket</th>\n",
              "      <th>Fare</th>\n",
              "      <th>Cabin</th>\n",
              "      <th>Embarked</th>\n",
              "    </tr>\n",
              "    <tr>\n",
              "      <th>PassengerId</th>\n",
              "      <th></th>\n",
              "      <th></th>\n",
              "      <th></th>\n",
              "      <th></th>\n",
              "      <th></th>\n",
              "      <th></th>\n",
              "      <th></th>\n",
              "      <th></th>\n",
              "      <th></th>\n",
              "      <th></th>\n",
              "      <th></th>\n",
              "    </tr>\n",
              "  </thead>\n",
              "  <tbody>\n",
              "    <tr>\n",
              "      <th>1</th>\n",
              "      <td>0</td>\n",
              "      <td>3</td>\n",
              "      <td>Braund, Mr. Owen Harris</td>\n",
              "      <td>male</td>\n",
              "      <td>22.0</td>\n",
              "      <td>1</td>\n",
              "      <td>0</td>\n",
              "      <td>A/5 21171</td>\n",
              "      <td>7.2500</td>\n",
              "      <td>NaN</td>\n",
              "      <td>S</td>\n",
              "    </tr>\n",
              "    <tr>\n",
              "      <th>2</th>\n",
              "      <td>1</td>\n",
              "      <td>1</td>\n",
              "      <td>Cumings, Mrs. John Bradley (Florence Briggs Th...</td>\n",
              "      <td>female</td>\n",
              "      <td>38.0</td>\n",
              "      <td>1</td>\n",
              "      <td>0</td>\n",
              "      <td>PC 17599</td>\n",
              "      <td>71.2833</td>\n",
              "      <td>C85</td>\n",
              "      <td>C</td>\n",
              "    </tr>\n",
              "    <tr>\n",
              "      <th>3</th>\n",
              "      <td>1</td>\n",
              "      <td>3</td>\n",
              "      <td>Heikkinen, Miss. Laina</td>\n",
              "      <td>female</td>\n",
              "      <td>26.0</td>\n",
              "      <td>0</td>\n",
              "      <td>0</td>\n",
              "      <td>STON/O2. 3101282</td>\n",
              "      <td>7.9250</td>\n",
              "      <td>NaN</td>\n",
              "      <td>S</td>\n",
              "    </tr>\n",
              "    <tr>\n",
              "      <th>4</th>\n",
              "      <td>1</td>\n",
              "      <td>1</td>\n",
              "      <td>Futrelle, Mrs. Jacques Heath (Lily May Peel)</td>\n",
              "      <td>female</td>\n",
              "      <td>35.0</td>\n",
              "      <td>1</td>\n",
              "      <td>0</td>\n",
              "      <td>113803</td>\n",
              "      <td>53.1000</td>\n",
              "      <td>C123</td>\n",
              "      <td>S</td>\n",
              "    </tr>\n",
              "    <tr>\n",
              "      <th>5</th>\n",
              "      <td>0</td>\n",
              "      <td>3</td>\n",
              "      <td>Allen, Mr. William Henry</td>\n",
              "      <td>male</td>\n",
              "      <td>35.0</td>\n",
              "      <td>0</td>\n",
              "      <td>0</td>\n",
              "      <td>373450</td>\n",
              "      <td>8.0500</td>\n",
              "      <td>NaN</td>\n",
              "      <td>S</td>\n",
              "    </tr>\n",
              "    <tr>\n",
              "      <th>...</th>\n",
              "      <td>...</td>\n",
              "      <td>...</td>\n",
              "      <td>...</td>\n",
              "      <td>...</td>\n",
              "      <td>...</td>\n",
              "      <td>...</td>\n",
              "      <td>...</td>\n",
              "      <td>...</td>\n",
              "      <td>...</td>\n",
              "      <td>...</td>\n",
              "      <td>...</td>\n",
              "    </tr>\n",
              "    <tr>\n",
              "      <th>887</th>\n",
              "      <td>0</td>\n",
              "      <td>2</td>\n",
              "      <td>Montvila, Rev. Juozas</td>\n",
              "      <td>male</td>\n",
              "      <td>27.0</td>\n",
              "      <td>0</td>\n",
              "      <td>0</td>\n",
              "      <td>211536</td>\n",
              "      <td>13.0000</td>\n",
              "      <td>NaN</td>\n",
              "      <td>S</td>\n",
              "    </tr>\n",
              "    <tr>\n",
              "      <th>888</th>\n",
              "      <td>1</td>\n",
              "      <td>1</td>\n",
              "      <td>Graham, Miss. Margaret Edith</td>\n",
              "      <td>female</td>\n",
              "      <td>19.0</td>\n",
              "      <td>0</td>\n",
              "      <td>0</td>\n",
              "      <td>112053</td>\n",
              "      <td>30.0000</td>\n",
              "      <td>B42</td>\n",
              "      <td>S</td>\n",
              "    </tr>\n",
              "    <tr>\n",
              "      <th>889</th>\n",
              "      <td>0</td>\n",
              "      <td>3</td>\n",
              "      <td>Johnston, Miss. Catherine Helen \"Carrie\"</td>\n",
              "      <td>female</td>\n",
              "      <td>NaN</td>\n",
              "      <td>1</td>\n",
              "      <td>2</td>\n",
              "      <td>W./C. 6607</td>\n",
              "      <td>23.4500</td>\n",
              "      <td>NaN</td>\n",
              "      <td>S</td>\n",
              "    </tr>\n",
              "    <tr>\n",
              "      <th>890</th>\n",
              "      <td>1</td>\n",
              "      <td>1</td>\n",
              "      <td>Behr, Mr. Karl Howell</td>\n",
              "      <td>male</td>\n",
              "      <td>26.0</td>\n",
              "      <td>0</td>\n",
              "      <td>0</td>\n",
              "      <td>111369</td>\n",
              "      <td>30.0000</td>\n",
              "      <td>C148</td>\n",
              "      <td>C</td>\n",
              "    </tr>\n",
              "    <tr>\n",
              "      <th>891</th>\n",
              "      <td>0</td>\n",
              "      <td>3</td>\n",
              "      <td>Dooley, Mr. Patrick</td>\n",
              "      <td>male</td>\n",
              "      <td>32.0</td>\n",
              "      <td>0</td>\n",
              "      <td>0</td>\n",
              "      <td>370376</td>\n",
              "      <td>7.7500</td>\n",
              "      <td>NaN</td>\n",
              "      <td>Q</td>\n",
              "    </tr>\n",
              "  </tbody>\n",
              "</table>\n",
              "<p>891 rows × 11 columns</p>\n",
              "</div>"
            ],
            "text/plain": [
              "             Survived  Pclass  \\\n",
              "PassengerId                     \n",
              "1                   0       3   \n",
              "2                   1       1   \n",
              "3                   1       3   \n",
              "4                   1       1   \n",
              "5                   0       3   \n",
              "...               ...     ...   \n",
              "887                 0       2   \n",
              "888                 1       1   \n",
              "889                 0       3   \n",
              "890                 1       1   \n",
              "891                 0       3   \n",
              "\n",
              "                                                          Name     Sex   Age  \\\n",
              "PassengerId                                                                    \n",
              "1                                      Braund, Mr. Owen Harris    male  22.0   \n",
              "2            Cumings, Mrs. John Bradley (Florence Briggs Th...  female  38.0   \n",
              "3                                       Heikkinen, Miss. Laina  female  26.0   \n",
              "4                 Futrelle, Mrs. Jacques Heath (Lily May Peel)  female  35.0   \n",
              "5                                     Allen, Mr. William Henry    male  35.0   \n",
              "...                                                        ...     ...   ...   \n",
              "887                                      Montvila, Rev. Juozas    male  27.0   \n",
              "888                               Graham, Miss. Margaret Edith  female  19.0   \n",
              "889                   Johnston, Miss. Catherine Helen \"Carrie\"  female   NaN   \n",
              "890                                      Behr, Mr. Karl Howell    male  26.0   \n",
              "891                                        Dooley, Mr. Patrick    male  32.0   \n",
              "\n",
              "             SibSp  Parch            Ticket     Fare Cabin Embarked  \n",
              "PassengerId                                                          \n",
              "1                1      0         A/5 21171   7.2500   NaN        S  \n",
              "2                1      0          PC 17599  71.2833   C85        C  \n",
              "3                0      0  STON/O2. 3101282   7.9250   NaN        S  \n",
              "4                1      0            113803  53.1000  C123        S  \n",
              "5                0      0            373450   8.0500   NaN        S  \n",
              "...            ...    ...               ...      ...   ...      ...  \n",
              "887              0      0            211536  13.0000   NaN        S  \n",
              "888              0      0            112053  30.0000   B42        S  \n",
              "889              1      2        W./C. 6607  23.4500   NaN        S  \n",
              "890              0      0            111369  30.0000  C148        C  \n",
              "891              0      0            370376   7.7500   NaN        Q  \n",
              "\n",
              "[891 rows x 11 columns]"
            ]
          },
          "execution_count": 3,
          "metadata": {},
          "output_type": "execute_result"
        }
      ],
      "source": [
        "df.set_index('PassengerId')"
      ]
    },
    {
      "cell_type": "markdown",
      "id": "b24f3eb2",
      "metadata": {
        "id": "b24f3eb2"
      },
      "source": [
        "### 3.Check the basic details of the dataset"
      ]
    },
    {
      "cell_type": "code",
      "execution_count": null,
      "id": "cf9023cb",
      "metadata": {
        "id": "cf9023cb",
        "outputId": "889a634c-3c75-4cc3-e75b-16a094437e39"
      },
      "outputs": [
        {
          "name": "stdout",
          "output_type": "stream",
          "text": [
            "<class 'pandas.core.frame.DataFrame'>\n",
            "RangeIndex: 891 entries, 0 to 890\n",
            "Data columns (total 12 columns):\n",
            " #   Column       Non-Null Count  Dtype  \n",
            "---  ------       --------------  -----  \n",
            " 0   PassengerId  891 non-null    int64  \n",
            " 1   Survived     891 non-null    int64  \n",
            " 2   Pclass       891 non-null    int64  \n",
            " 3   Name         891 non-null    object \n",
            " 4   Sex          891 non-null    object \n",
            " 5   Age          714 non-null    float64\n",
            " 6   SibSp        891 non-null    int64  \n",
            " 7   Parch        891 non-null    int64  \n",
            " 8   Ticket       891 non-null    object \n",
            " 9   Fare         891 non-null    float64\n",
            " 10  Cabin        204 non-null    object \n",
            " 11  Embarked     889 non-null    object \n",
            "dtypes: float64(2), int64(5), object(5)\n",
            "memory usage: 83.7+ KB\n"
          ]
        }
      ],
      "source": [
        "df.info()"
      ]
    },
    {
      "cell_type": "code",
      "execution_count": null,
      "id": "3baa17d8",
      "metadata": {
        "scrolled": true,
        "id": "3baa17d8",
        "outputId": "4d92e9c9-a006-4de0-af39-43cbeb488730"
      },
      "outputs": [
        {
          "data": {
            "text/html": [
              "<div>\n",
              "<style scoped>\n",
              "    .dataframe tbody tr th:only-of-type {\n",
              "        vertical-align: middle;\n",
              "    }\n",
              "\n",
              "    .dataframe tbody tr th {\n",
              "        vertical-align: top;\n",
              "    }\n",
              "\n",
              "    .dataframe thead th {\n",
              "        text-align: right;\n",
              "    }\n",
              "</style>\n",
              "<table border=\"1\" class=\"dataframe\">\n",
              "  <thead>\n",
              "    <tr style=\"text-align: right;\">\n",
              "      <th></th>\n",
              "      <th>PassengerId</th>\n",
              "      <th>Survived</th>\n",
              "      <th>Pclass</th>\n",
              "      <th>Age</th>\n",
              "      <th>SibSp</th>\n",
              "      <th>Parch</th>\n",
              "      <th>Fare</th>\n",
              "    </tr>\n",
              "  </thead>\n",
              "  <tbody>\n",
              "    <tr>\n",
              "      <th>count</th>\n",
              "      <td>891.000000</td>\n",
              "      <td>891.000000</td>\n",
              "      <td>891.000000</td>\n",
              "      <td>714.000000</td>\n",
              "      <td>891.000000</td>\n",
              "      <td>891.000000</td>\n",
              "      <td>891.000000</td>\n",
              "    </tr>\n",
              "    <tr>\n",
              "      <th>mean</th>\n",
              "      <td>446.000000</td>\n",
              "      <td>0.383838</td>\n",
              "      <td>2.308642</td>\n",
              "      <td>29.699118</td>\n",
              "      <td>0.523008</td>\n",
              "      <td>0.381594</td>\n",
              "      <td>32.204208</td>\n",
              "    </tr>\n",
              "    <tr>\n",
              "      <th>std</th>\n",
              "      <td>257.353842</td>\n",
              "      <td>0.486592</td>\n",
              "      <td>0.836071</td>\n",
              "      <td>14.526497</td>\n",
              "      <td>1.102743</td>\n",
              "      <td>0.806057</td>\n",
              "      <td>49.693429</td>\n",
              "    </tr>\n",
              "    <tr>\n",
              "      <th>min</th>\n",
              "      <td>1.000000</td>\n",
              "      <td>0.000000</td>\n",
              "      <td>1.000000</td>\n",
              "      <td>0.420000</td>\n",
              "      <td>0.000000</td>\n",
              "      <td>0.000000</td>\n",
              "      <td>0.000000</td>\n",
              "    </tr>\n",
              "    <tr>\n",
              "      <th>25%</th>\n",
              "      <td>223.500000</td>\n",
              "      <td>0.000000</td>\n",
              "      <td>2.000000</td>\n",
              "      <td>20.125000</td>\n",
              "      <td>0.000000</td>\n",
              "      <td>0.000000</td>\n",
              "      <td>7.910400</td>\n",
              "    </tr>\n",
              "    <tr>\n",
              "      <th>50%</th>\n",
              "      <td>446.000000</td>\n",
              "      <td>0.000000</td>\n",
              "      <td>3.000000</td>\n",
              "      <td>28.000000</td>\n",
              "      <td>0.000000</td>\n",
              "      <td>0.000000</td>\n",
              "      <td>14.454200</td>\n",
              "    </tr>\n",
              "    <tr>\n",
              "      <th>75%</th>\n",
              "      <td>668.500000</td>\n",
              "      <td>1.000000</td>\n",
              "      <td>3.000000</td>\n",
              "      <td>38.000000</td>\n",
              "      <td>1.000000</td>\n",
              "      <td>0.000000</td>\n",
              "      <td>31.000000</td>\n",
              "    </tr>\n",
              "    <tr>\n",
              "      <th>max</th>\n",
              "      <td>891.000000</td>\n",
              "      <td>1.000000</td>\n",
              "      <td>3.000000</td>\n",
              "      <td>80.000000</td>\n",
              "      <td>8.000000</td>\n",
              "      <td>6.000000</td>\n",
              "      <td>512.329200</td>\n",
              "    </tr>\n",
              "  </tbody>\n",
              "</table>\n",
              "</div>"
            ],
            "text/plain": [
              "       PassengerId    Survived      Pclass         Age       SibSp  \\\n",
              "count   891.000000  891.000000  891.000000  714.000000  891.000000   \n",
              "mean    446.000000    0.383838    2.308642   29.699118    0.523008   \n",
              "std     257.353842    0.486592    0.836071   14.526497    1.102743   \n",
              "min       1.000000    0.000000    1.000000    0.420000    0.000000   \n",
              "25%     223.500000    0.000000    2.000000   20.125000    0.000000   \n",
              "50%     446.000000    0.000000    3.000000   28.000000    0.000000   \n",
              "75%     668.500000    1.000000    3.000000   38.000000    1.000000   \n",
              "max     891.000000    1.000000    3.000000   80.000000    8.000000   \n",
              "\n",
              "            Parch        Fare  \n",
              "count  891.000000  891.000000  \n",
              "mean     0.381594   32.204208  \n",
              "std      0.806057   49.693429  \n",
              "min      0.000000    0.000000  \n",
              "25%      0.000000    7.910400  \n",
              "50%      0.000000   14.454200  \n",
              "75%      0.000000   31.000000  \n",
              "max      6.000000  512.329200  "
            ]
          },
          "execution_count": 5,
          "metadata": {},
          "output_type": "execute_result"
        }
      ],
      "source": [
        "df.describe()"
      ]
    },
    {
      "cell_type": "markdown",
      "id": "c0c2a724",
      "metadata": {
        "id": "c0c2a724"
      },
      "source": [
        "### 4. Fill in all the missing values present in all the columns in the dataset"
      ]
    },
    {
      "cell_type": "code",
      "execution_count": null,
      "id": "32ceae3a",
      "metadata": {
        "id": "32ceae3a",
        "outputId": "86805133-5a0a-42f5-ec2f-64cf77134fd0"
      },
      "outputs": [
        {
          "data": {
            "text/plain": [
              "PassengerId      0\n",
              "Survived         0\n",
              "Pclass           0\n",
              "Name             0\n",
              "Sex              0\n",
              "Age            177\n",
              "SibSp            0\n",
              "Parch            0\n",
              "Ticket           0\n",
              "Fare             0\n",
              "Cabin          687\n",
              "Embarked         2\n",
              "dtype: int64"
            ]
          },
          "execution_count": 6,
          "metadata": {},
          "output_type": "execute_result"
        }
      ],
      "source": [
        "df.isnull().sum()"
      ]
    },
    {
      "cell_type": "code",
      "execution_count": null,
      "id": "943b460f",
      "metadata": {
        "id": "943b460f",
        "outputId": "341b2cd0-d3dd-4a51-875e-e0f57e934d5e"
      },
      "outputs": [
        {
          "data": {
            "text/plain": [
              "PassengerId      int64\n",
              "Survived         int64\n",
              "Pclass           int64\n",
              "Name            object\n",
              "Sex             object\n",
              "Age            float64\n",
              "SibSp            int64\n",
              "Parch            int64\n",
              "Ticket          object\n",
              "Fare           float64\n",
              "Cabin           object\n",
              "Embarked        object\n",
              "dtype: object"
            ]
          },
          "execution_count": 7,
          "metadata": {},
          "output_type": "execute_result"
        }
      ],
      "source": [
        "df.dtypes\n"
      ]
    },
    {
      "cell_type": "code",
      "execution_count": null,
      "id": "57fb85be",
      "metadata": {
        "scrolled": false,
        "id": "57fb85be",
        "outputId": "3e97c8d4-8031-48be-8771-3408e7b09711"
      },
      "outputs": [
        {
          "data": {
            "image/png": "[encoded data removed]",
            "text/plain": [
              "<Figure size 1440x1080 with 2 Axes>"
            ]
          },
          "metadata": {
            "needs_background": "light"
          },
          "output_type": "display_data"
        }
      ],
      "source": [
        "skew = df.select_dtypes(include=['float'])\n",
        "skew.hist(figsize=(20,15))\n",
        "plt.show()"
      ]
    },
    {
      "cell_type": "markdown",
      "id": "69290499",
      "metadata": {
        "id": "69290499"
      },
      "source": [
        "Since the data of age is symmetric , we will replace the values with its mean"
      ]
    },
    {
      "cell_type": "code",
      "execution_count": null,
      "id": "8b897969",
      "metadata": {
        "id": "8b897969"
      },
      "outputs": [],
      "source": [
        "df['Age'] = df['Age'].fillna(df['Age'].mean())"
      ]
    },
    {
      "cell_type": "code",
      "execution_count": null,
      "id": "36b966f6",
      "metadata": {
        "id": "36b966f6"
      },
      "outputs": [],
      "source": [
        "df['Cabin']=df['Cabin'].fillna(df['Cabin'].mode()[0])"
      ]
    },
    {
      "cell_type": "code",
      "execution_count": null,
      "id": "6a857b15",
      "metadata": {
        "id": "6a857b15"
      },
      "outputs": [],
      "source": [
        "df['Embarked']=df['Embarked'].fillna(df['Embarked'].mode()[0])\n"
      ]
    },
    {
      "cell_type": "code",
      "execution_count": null,
      "id": "1aa8d68e",
      "metadata": {
        "id": "1aa8d68e",
        "outputId": "98743b04-5f46-4e08-fd15-91d2408eba88"
      },
      "outputs": [
        {
          "data": {
            "text/plain": [
              "PassengerId    0\n",
              "Survived       0\n",
              "Pclass         0\n",
              "Name           0\n",
              "Sex            0\n",
              "Age            0\n",
              "SibSp          0\n",
              "Parch          0\n",
              "Ticket         0\n",
              "Fare           0\n",
              "Cabin          0\n",
              "Embarked       0\n",
              "dtype: int64"
            ]
          },
          "execution_count": 22,
          "metadata": {},
          "output_type": "execute_result"
        }
      ],
      "source": [
        "df.isna().sum()"
      ]
    },
    {
      "cell_type": "markdown",
      "id": "28534e0e",
      "metadata": {
        "id": "28534e0e"
      },
      "source": [
        "### 5. Check and handle outliers in at least 3 columns in the dataset"
      ]
    },
    {
      "cell_type": "markdown",
      "id": "f5397961",
      "metadata": {
        "id": "f5397961"
      },
      "source": [
        "#### Outliers in AGE"
      ]
    },
    {
      "cell_type": "code",
      "execution_count": null,
      "id": "d7a95b75",
      "metadata": {
        "id": "d7a95b75",
        "outputId": "b6033c98-bacb-48ec-b3ee-c4a7f280e8b1"
      },
      "outputs": [
        {
          "data": {
            "image/png": "[encoded data removed]",
            "text/plain": [
              "<Figure size 432x288 with 1 Axes>"
            ]
          },
          "metadata": {
            "needs_background": "light"
          },
          "output_type": "display_data"
        }
      ],
      "source": [
        "#boxplot of 'Age'\n",
        "plt.boxplot(df['Age'])\n",
        "plt.show()"
      ]
    },
    {
      "cell_type": "code",
      "execution_count": null,
      "id": "32f78398",
      "metadata": {
        "id": "32f78398",
        "outputId": "7df1e4b7-5435-4254-f338-1335b0c159bb"
      },
      "outputs": [
        {
          "name": "stdout",
          "output_type": "stream",
          "text": [
            "Q1 =  22.0 \n",
            "Q2 =  29.7 \n",
            "Q3 =  35.0\n"
          ]
        }
      ],
      "source": [
        "#calculating percentiles\n",
        "Q1=np.percentile(df['Age'],25,interpolation='midpoint')\n",
        "Q2=np.percentile(df['Age'],50,interpolation='midpoint')\n",
        "Q3=np.percentile(df['Age'],75,interpolation='midpoint')\n",
        "print('Q1 = ',Q1,'\\nQ2 = ',round(Q2,2),'\\nQ3 = ',Q3)"
      ]
    },
    {
      "cell_type": "code",
      "execution_count": null,
      "id": "37697b6e",
      "metadata": {
        "id": "37697b6e",
        "outputId": "0f9a0f8e-b340-46fd-cf03-7d752adc522e"
      },
      "outputs": [
        {
          "name": "stdout",
          "output_type": "stream",
          "text": [
            "IQR =  13.0\n"
          ]
        }
      ],
      "source": [
        "#calculating inter quartile range\n",
        "IQR=Q3-Q1\n",
        "print('IQR = ',IQR)"
      ]
    },
    {
      "cell_type": "code",
      "execution_count": null,
      "id": "68ec996b",
      "metadata": {
        "id": "68ec996b",
        "outputId": "15c11f16-9e64-4932-abe9-c5a5f3bd8626"
      },
      "outputs": [
        {
          "name": "stdout",
          "output_type": "stream",
          "text": [
            "Upper limit =  54.5 \n",
            "Lower limit =  2.5\n"
          ]
        }
      ],
      "source": [
        "#calculating the upper and lower limit of outliers\n",
        "low_lim=Q1-(1.5*IQR)\n",
        "up_lim=Q3+(1.5*IQR)\n",
        "print('Upper limit = ',up_lim,'\\nLower limit = ',low_lim)"
      ]
    },
    {
      "cell_type": "code",
      "execution_count": null,
      "id": "e45cb5d8",
      "metadata": {
        "scrolled": true,
        "id": "e45cb5d8",
        "outputId": "36c83cc0-887a-4edd-d62d-a48531c946d0"
      },
      "outputs": [
        {
          "data": {
            "text/plain": [
              "[2.0,\n",
              " 58.0,\n",
              " 55.0,\n",
              " 2.0,\n",
              " 66.0,\n",
              " 65.0,\n",
              " 0.83,\n",
              " 59.0,\n",
              " 71.0,\n",
              " 70.5,\n",
              " 2.0,\n",
              " 55.5,\n",
              " 1.0,\n",
              " 61.0,\n",
              " 1.0,\n",
              " 56.0,\n",
              " 1.0,\n",
              " 58.0,\n",
              " 2.0,\n",
              " 59.0,\n",
              " 62.0,\n",
              " 58.0,\n",
              " 63.0,\n",
              " 65.0,\n",
              " 2.0,\n",
              " 0.92,\n",
              " 61.0,\n",
              " 2.0,\n",
              " 60.0,\n",
              " 1.0,\n",
              " 1.0,\n",
              " 64.0,\n",
              " 65.0,\n",
              " 56.0,\n",
              " 0.75,\n",
              " 2.0,\n",
              " 63.0,\n",
              " 58.0,\n",
              " 55.0,\n",
              " 71.0,\n",
              " 2.0,\n",
              " 64.0,\n",
              " 62.0,\n",
              " 62.0,\n",
              " 60.0,\n",
              " 61.0,\n",
              " 57.0,\n",
              " 80.0,\n",
              " 2.0,\n",
              " 0.75,\n",
              " 56.0,\n",
              " 58.0,\n",
              " 70.0,\n",
              " 60.0,\n",
              " 60.0,\n",
              " 70.0,\n",
              " 0.67,\n",
              " 57.0,\n",
              " 1.0,\n",
              " 0.42,\n",
              " 2.0,\n",
              " 1.0,\n",
              " 62.0,\n",
              " 0.83,\n",
              " 74.0,\n",
              " 56.0]"
            ]
          },
          "execution_count": 28,
          "metadata": {},
          "output_type": "execute_result"
        }
      ],
      "source": [
        "#creating a list of outliers\n",
        "outlier=[]\n",
        "for x in df['Age']:\n",
        "    if (x>up_lim or x<low_lim):\n",
        "        outlier.append(x)\n",
        "outlier"
      ]
    },
    {
      "cell_type": "code",
      "execution_count": null,
      "id": "7f9f9e14",
      "metadata": {
        "id": "7f9f9e14",
        "outputId": "722f15fe-2325-4357-bf2c-fad1d97a5e1b"
      },
      "outputs": [
        {
          "data": {
            "text/plain": [
              "Int64Index([  7,  11,  15,  16,  33,  54,  78,  94,  96, 116, 119, 152, 164,\n",
              "            170, 172, 174, 183, 195, 205, 232, 252, 268, 275, 280, 297, 305,\n",
              "            326, 340, 366, 381, 386, 438, 456, 467, 469, 479, 483, 487, 492,\n",
              "            493, 530, 545, 555, 570, 587, 625, 626, 630, 642, 644, 647, 659,\n",
              "            672, 684, 694, 745, 755, 772, 788, 803, 824, 827, 829, 831, 851,\n",
              "            879],\n",
              "           dtype='int64')"
            ]
          },
          "execution_count": 31,
          "metadata": {},
          "output_type": "execute_result"
        }
      ],
      "source": [
        "#finding index values of outliers\n",
        "df.loc[(df['Age']>up_lim ) | (df['Age']<low_lim)].index"
      ]
    },
    {
      "cell_type": "code",
      "execution_count": null,
      "id": "4f6463df",
      "metadata": {
        "id": "4f6463df"
      },
      "outputs": [],
      "source": [
        "#removing the outliers\n",
        "df.drop([ 8,  12,  16,  17,  34,  55,  79,  95,  97, 117, 120, 153, 165,\n",
        "            171, 173, 175, 184, 196, 206, 233, 253, 269, 276, 281, 298, 306,\n",
        "            327, 341, 367, 382, 387, 439, 457, 468, 470, 480, 484, 488, 493,\n",
        "            494, 531, 546, 556, 571, 588, 626, 627, 631, 643, 645, 648, 660,\n",
        "            673, 685, 695, 746, 756, 773, 789, 804, 825, 828, 830, 832, 852,\n",
        "            880],inplace=True)"
      ]
    },
    {
      "cell_type": "code",
      "execution_count": null,
      "id": "dd89f659",
      "metadata": {
        "id": "dd89f659",
        "outputId": "8ff5ecfc-daee-432a-efe2-5a8f1decfa7d"
      },
      "outputs": [
        {
          "data": {
            "image/png": "[encoded data removed]",
            "text/plain": [
              "<Figure size 432x288 with 1 Axes>"
            ]
          },
          "metadata": {
            "needs_background": "light"
          },
          "output_type": "display_data"
        }
      ],
      "source": [
        "#boxplot of 'Age'\n",
        "plt.boxplot(df['Age'])\n",
        "plt.show()"
      ]
    },
    {
      "cell_type": "markdown",
      "id": "a5240d12",
      "metadata": {
        "id": "a5240d12"
      },
      "source": [
        "#### Removing outliers in 'SibSp' column"
      ]
    },
    {
      "cell_type": "code",
      "execution_count": null,
      "id": "7a3ca681",
      "metadata": {
        "id": "7a3ca681",
        "outputId": "e574cf55-bbf6-4ce3-cfcc-9423c91811c1"
      },
      "outputs": [
        {
          "data": {
            "image/png": "[encoded data removed]",
            "text/plain": [
              "<Figure size 432x288 with 1 Axes>"
            ]
          },
          "metadata": {
            "needs_background": "light"
          },
          "output_type": "display_data"
        }
      ],
      "source": [
        "#boxplot of 'SibSp'\n",
        "plt.boxplot(df['SibSp'])\n",
        "plt.show()"
      ]
    },
    {
      "cell_type": "code",
      "execution_count": null,
      "id": "fd96efd4",
      "metadata": {
        "id": "fd96efd4",
        "outputId": "abbc8821-4cb0-4410-f39a-2a104a1b6aad"
      },
      "outputs": [
        {
          "name": "stdout",
          "output_type": "stream",
          "text": [
            "Q1 =  0.0 \n",
            "Q2 =  0.0 \n",
            "Q3 =  1.0\n"
          ]
        }
      ],
      "source": [
        "#calculating percentiles\n",
        "Q1=np.percentile(df['SibSp'],25,interpolation='midpoint')\n",
        "Q2=np.percentile(df['SibSp'],50,interpolation='midpoint')\n",
        "Q3=np.percentile(df['SibSp'],75,interpolation='midpoint')\n",
        "print('Q1 = ',Q1,'\\nQ2 = ',round(Q2,2),'\\nQ3 = ',Q3)"
      ]
    },
    {
      "cell_type": "code",
      "execution_count": null,
      "id": "fbfdb9d0",
      "metadata": {
        "id": "fbfdb9d0",
        "outputId": "9f270d30-b2ce-42d8-ed10-680e11a379c7"
      },
      "outputs": [
        {
          "name": "stdout",
          "output_type": "stream",
          "text": [
            "IQR =  1.0\n"
          ]
        }
      ],
      "source": [
        "#calculating inter quartile range\n",
        "IQR=Q3-Q1\n",
        "print('IQR = ',IQR)"
      ]
    },
    {
      "cell_type": "code",
      "execution_count": null,
      "id": "f7877622",
      "metadata": {
        "id": "f7877622",
        "outputId": "972899f5-2b6b-474a-8fb7-143515abe84a"
      },
      "outputs": [
        {
          "name": "stdout",
          "output_type": "stream",
          "text": [
            "Upper limit =  2.5 \n",
            "Lower limit =  -1.5\n"
          ]
        }
      ],
      "source": [
        "#calculating the upper and lower limit of outliers\n",
        "low_lim=Q1-(1.5*IQR)\n",
        "up_lim=Q3+(1.5*IQR)\n",
        "print('Upper limit = ',up_lim,'\\nLower limit = ',low_lim)"
      ]
    },
    {
      "cell_type": "code",
      "execution_count": null,
      "id": "90416940",
      "metadata": {
        "id": "90416940",
        "outputId": "95a63222-b17d-49f1-d662-a36df06b40b2"
      },
      "outputs": [
        {
          "data": {
            "text/plain": [
              "[3,\n",
              " 3,\n",
              " 3,\n",
              " 4,\n",
              " 5,\n",
              " 3,\n",
              " 4,\n",
              " 5,\n",
              " 3,\n",
              " 3,\n",
              " 4,\n",
              " 8,\n",
              " 4,\n",
              " 3,\n",
              " 8,\n",
              " 4,\n",
              " 8,\n",
              " 3,\n",
              " 4,\n",
              " 4,\n",
              " 4,\n",
              " 8,\n",
              " 3,\n",
              " 5,\n",
              " 3,\n",
              " 3,\n",
              " 4,\n",
              " 4,\n",
              " 3,\n",
              " 3,\n",
              " 5,\n",
              " 4,\n",
              " 3,\n",
              " 4,\n",
              " 8,\n",
              " 4,\n",
              " 3,\n",
              " 4,\n",
              " 8,\n",
              " 4,\n",
              " 8]"
            ]
          },
          "execution_count": 41,
          "metadata": {},
          "output_type": "execute_result"
        }
      ],
      "source": [
        "#creating a list of outliers\n",
        "outlier=[]\n",
        "for x in df['SibSp']:\n",
        "    if (x>up_lim or x<low_lim):\n",
        "        outlier.append(x)\n",
        "outlier"
      ]
    },
    {
      "cell_type": "code",
      "execution_count": null,
      "id": "dff85885",
      "metadata": {
        "id": "dff85885",
        "outputId": "6bb8df47-1232-4bfd-d1d3-4106fd1a03ee"
      },
      "outputs": [
        {
          "data": {
            "text/plain": [
              "Int64Index([  7,  24,  27,  50,  59,  63,  68,  71,  85,  88, 119, 159, 164,\n",
              "            176, 180, 182, 201, 229, 261, 266, 278, 324, 374, 386, 409, 485,\n",
              "            541, 542, 634, 642, 683, 686, 726, 787, 792, 813, 819, 824, 846,\n",
              "            850, 863],\n",
              "           dtype='int64')"
            ]
          },
          "execution_count": 42,
          "metadata": {},
          "output_type": "execute_result"
        }
      ],
      "source": [
        "#finding index values of outliers\n",
        "ind1=df['SibSp']>up_lim\n",
        "df.loc[ind1].index"
      ]
    },
    {
      "cell_type": "code",
      "execution_count": null,
      "id": "ea136453",
      "metadata": {
        "id": "ea136453"
      },
      "outputs": [],
      "source": [
        "#removing the outliers\n",
        "df.drop([25,  28,  51,  60,  64,  69,  72,  86,  89, 160, 172, 177, 181,\n",
        "            183, 202, 230, 234, 262, 267, 279, 325, 342, 375, 410, 481, 486,\n",
        "            542, 543, 635, 684, 687, 727, 788, 793, 814, 820, 847, 851, 864],inplace=True)"
      ]
    },
    {
      "cell_type": "code",
      "execution_count": null,
      "id": "73947811",
      "metadata": {
        "id": "73947811",
        "outputId": "635ca353-aa3e-4e66-b12d-9e6a36785242"
      },
      "outputs": [
        {
          "data": {
            "image/png": "[encoded data removed]",
            "text/plain": [
              "<Figure size 432x288 with 1 Axes>"
            ]
          },
          "metadata": {
            "needs_background": "light"
          },
          "output_type": "display_data"
        }
      ],
      "source": [
        "#boxplot of 'SibSp'\n",
        "plt.boxplot(df['SibSp'])\n",
        "plt.show()"
      ]
    },
    {
      "cell_type": "markdown",
      "id": "d516be2b",
      "metadata": {
        "id": "d516be2b"
      },
      "source": [
        "### Removing outliers in 'Fare' column"
      ]
    },
    {
      "cell_type": "code",
      "execution_count": null,
      "id": "209397ee",
      "metadata": {
        "id": "209397ee",
        "outputId": "4b05fa4b-c858-4fba-80fa-e64949fc31c8"
      },
      "outputs": [
        {
          "data": {
            "image/png": "[encoded data removed]",
            "text/plain": [
              "<Figure size 432x288 with 1 Axes>"
            ]
          },
          "metadata": {
            "needs_background": "light"
          },
          "output_type": "display_data"
        }
      ],
      "source": [
        "#boxplot of 'Fare'\n",
        "plt.boxplot(df['Fare'])\n",
        "plt.show()"
      ]
    },
    {
      "cell_type": "code",
      "execution_count": null,
      "id": "3d32ff8f",
      "metadata": {
        "id": "3d32ff8f",
        "outputId": "1ed356da-4174-414b-f919-d91f9baa8124"
      },
      "outputs": [
        {
          "name": "stdout",
          "output_type": "stream",
          "text": [
            "Q1 =  7.9104 \n",
            "Q2 =  14.45 \n",
            "Q3 =  30.5\n"
          ]
        }
      ],
      "source": [
        "#calculating percentiles\n",
        "Q1=np.percentile(df['Fare'],25,interpolation='midpoint')\n",
        "Q2=np.percentile(df['Fare'],50,interpolation='midpoint')\n",
        "Q3=np.percentile(df['Fare'],75,interpolation='midpoint')\n",
        "print('Q1 = ',Q1,'\\nQ2 = ',round(Q2,2),'\\nQ3 = ',Q3)"
      ]
    },
    {
      "cell_type": "code",
      "execution_count": null,
      "id": "5dac3cde",
      "metadata": {
        "id": "5dac3cde",
        "outputId": "1f9918ac-b84b-4167-e9f5-a5d4f47f22ce"
      },
      "outputs": [
        {
          "name": "stdout",
          "output_type": "stream",
          "text": [
            "IQR =  22.5896\n"
          ]
        }
      ],
      "source": [
        "#calculating inter quartile range\n",
        "IQR=Q3-Q1\n",
        "print('IQR = ',IQR)"
      ]
    },
    {
      "cell_type": "code",
      "execution_count": null,
      "id": "87f5d8d6",
      "metadata": {
        "id": "87f5d8d6",
        "outputId": "7b6e91d8-a434-4afd-84d7-1752d05750dd"
      },
      "outputs": [
        {
          "name": "stdout",
          "output_type": "stream",
          "text": [
            "Upper limit =  64.3844 \n",
            "Lower limit =  -25.97\n"
          ]
        }
      ],
      "source": [
        "#calculating the upper and lower limit of outliers\n",
        "low_lim=Q1-(1.5*IQR)\n",
        "up_lim=Q3+(1.5*IQR)\n",
        "print('Upper limit = ',up_lim,'\\nLower limit = ',round(low_lim,2))"
      ]
    },
    {
      "cell_type": "code",
      "execution_count": null,
      "id": "0f535c6c",
      "metadata": {
        "id": "0f535c6c",
        "outputId": "67fd7047-9ab0-4c9c-e240-265b56e8da03"
      },
      "outputs": [
        {
          "data": {
            "text/plain": [
              "[71.2833,\n",
              " 263.0,\n",
              " 146.5208,\n",
              " 76.7292,\n",
              " 80.0,\n",
              " 83.475,\n",
              " 263.0,\n",
              " 77.2875,\n",
              " 247.5208,\n",
              " 77.2875,\n",
              " 79.2,\n",
              " 66.6,\n",
              " 69.55,\n",
              " 69.55,\n",
              " 146.5208,\n",
              " 69.55,\n",
              " 113.275,\n",
              " 76.2917,\n",
              " 90.0,\n",
              " 90.0,\n",
              " 79.2,\n",
              " 86.5,\n",
              " 512.3292,\n",
              " 153.4625,\n",
              " 77.9583,\n",
              " 78.85,\n",
              " 91.0792,\n",
              " 151.55,\n",
              " 247.5208,\n",
              " 151.55,\n",
              " 108.9,\n",
              " 83.1583,\n",
              " 262.375,\n",
              " 164.8667,\n",
              " 134.5,\n",
              " 69.55,\n",
              " 153.4625,\n",
              " 133.65,\n",
              " 66.6,\n",
              " 134.5,\n",
              " 75.25,\n",
              " 69.3,\n",
              " 135.6333,\n",
              " 211.5,\n",
              " 227.525,\n",
              " 73.5,\n",
              " 120.0,\n",
              " 113.275,\n",
              " 90.0,\n",
              " 120.0,\n",
              " 263.0,\n",
              " 81.8583,\n",
              " 89.1042,\n",
              " 78.2667,\n",
              " 151.55,\n",
              " 86.5,\n",
              " 108.9,\n",
              " 93.5,\n",
              " 221.7792,\n",
              " 106.425,\n",
              " 71.0,\n",
              " 106.425,\n",
              " 110.8833,\n",
              " 227.525,\n",
              " 79.65,\n",
              " 110.8833,\n",
              " 79.65,\n",
              " 79.2,\n",
              " 78.2667,\n",
              " 153.4625,\n",
              " 65.0,\n",
              " 69.3,\n",
              " 73.5,\n",
              " 113.275,\n",
              " 73.5,\n",
              " 512.3292,\n",
              " 76.7292,\n",
              " 211.3375,\n",
              " 110.8833,\n",
              " 227.525,\n",
              " 151.55,\n",
              " 227.525,\n",
              " 211.3375,\n",
              " 512.3292,\n",
              " 78.85,\n",
              " 262.375,\n",
              " 71.0,\n",
              " 65.0,\n",
              " 86.5,\n",
              " 120.0,\n",
              " 77.9583,\n",
              " 211.3375,\n",
              " 69.55,\n",
              " 120.0,\n",
              " 80.0,\n",
              " 83.1583,\n",
              " 69.55,\n",
              " 89.1042,\n",
              " 164.8667,\n",
              " 69.55,\n",
              " 83.1583]"
            ]
          },
          "execution_count": 52,
          "metadata": {},
          "output_type": "execute_result"
        }
      ],
      "source": [
        "#creating a list of outliers\n",
        "outlier=[]\n",
        "for x in df['Fare']:\n",
        "    if (x>up_lim or x<low_lim):\n",
        "        outlier.append(x)\n",
        "outlier"
      ]
    },
    {
      "cell_type": "code",
      "execution_count": null,
      "id": "cc0214de",
      "metadata": {
        "id": "cc0214de",
        "outputId": "87ba5253-5007-4a5e-da89-35c93611c879"
      },
      "outputs": [
        {
          "data": {
            "text/plain": [
              "Int64Index([  1,  27,  31,  52,  61,  62,  88, 102, 118, 124,\n",
              "            ...\n",
              "            779, 792, 802, 829, 835, 846, 849, 856, 863, 879],\n",
              "           dtype='int64', length=101)"
            ]
          },
          "execution_count": 54,
          "metadata": {},
          "output_type": "execute_result"
        }
      ],
      "source": [
        "#finding index values of outliers\n",
        "ind1=df['Fare']>up_lim\n",
        "df.loc[ind1].index"
      ]
    },
    {
      "cell_type": "code",
      "execution_count": null,
      "id": "f3cca968",
      "metadata": {
        "id": "f3cca968",
        "outputId": "e03aeb50-655d-43c2-c023-139a3cb96b09"
      },
      "outputs": [
        {
          "data": {
            "text/html": [
              "<div>\n",
              "<style scoped>\n",
              "    .dataframe tbody tr th:only-of-type {\n",
              "        vertical-align: middle;\n",
              "    }\n",
              "\n",
              "    .dataframe tbody tr th {\n",
              "        vertical-align: top;\n",
              "    }\n",
              "\n",
              "    .dataframe thead th {\n",
              "        text-align: right;\n",
              "    }\n",
              "</style>\n",
              "<table border=\"1\" class=\"dataframe\">\n",
              "  <thead>\n",
              "    <tr style=\"text-align: right;\">\n",
              "      <th></th>\n",
              "      <th>PassengerId</th>\n",
              "      <th>Survived</th>\n",
              "      <th>Pclass</th>\n",
              "      <th>Name</th>\n",
              "      <th>Sex</th>\n",
              "      <th>Age</th>\n",
              "      <th>SibSp</th>\n",
              "      <th>Parch</th>\n",
              "      <th>Ticket</th>\n",
              "      <th>Fare</th>\n",
              "      <th>Cabin</th>\n",
              "      <th>Embarked</th>\n",
              "    </tr>\n",
              "  </thead>\n",
              "  <tbody>\n",
              "    <tr>\n",
              "      <th>0</th>\n",
              "      <td>1</td>\n",
              "      <td>0</td>\n",
              "      <td>3</td>\n",
              "      <td>Braund, Mr. Owen Harris</td>\n",
              "      <td>male</td>\n",
              "      <td>22.000000</td>\n",
              "      <td>1</td>\n",
              "      <td>0</td>\n",
              "      <td>A/5 21171</td>\n",
              "      <td>7.2500</td>\n",
              "      <td>B96 B98</td>\n",
              "      <td>S</td>\n",
              "    </tr>\n",
              "    <tr>\n",
              "      <th>1</th>\n",
              "      <td>2</td>\n",
              "      <td>1</td>\n",
              "      <td>1</td>\n",
              "      <td>Cumings, Mrs. John Bradley (Florence Briggs Th...</td>\n",
              "      <td>female</td>\n",
              "      <td>38.000000</td>\n",
              "      <td>1</td>\n",
              "      <td>0</td>\n",
              "      <td>PC 17599</td>\n",
              "      <td>71.2833</td>\n",
              "      <td>C85</td>\n",
              "      <td>C</td>\n",
              "    </tr>\n",
              "    <tr>\n",
              "      <th>3</th>\n",
              "      <td>4</td>\n",
              "      <td>1</td>\n",
              "      <td>1</td>\n",
              "      <td>Futrelle, Mrs. Jacques Heath (Lily May Peel)</td>\n",
              "      <td>female</td>\n",
              "      <td>35.000000</td>\n",
              "      <td>1</td>\n",
              "      <td>0</td>\n",
              "      <td>113803</td>\n",
              "      <td>53.1000</td>\n",
              "      <td>C123</td>\n",
              "      <td>S</td>\n",
              "    </tr>\n",
              "    <tr>\n",
              "      <th>4</th>\n",
              "      <td>5</td>\n",
              "      <td>0</td>\n",
              "      <td>3</td>\n",
              "      <td>Allen, Mr. William Henry</td>\n",
              "      <td>male</td>\n",
              "      <td>35.000000</td>\n",
              "      <td>0</td>\n",
              "      <td>0</td>\n",
              "      <td>373450</td>\n",
              "      <td>8.0500</td>\n",
              "      <td>B96 B98</td>\n",
              "      <td>S</td>\n",
              "    </tr>\n",
              "    <tr>\n",
              "      <th>5</th>\n",
              "      <td>6</td>\n",
              "      <td>0</td>\n",
              "      <td>3</td>\n",
              "      <td>Moran, Mr. James</td>\n",
              "      <td>male</td>\n",
              "      <td>29.699118</td>\n",
              "      <td>0</td>\n",
              "      <td>0</td>\n",
              "      <td>330877</td>\n",
              "      <td>8.4583</td>\n",
              "      <td>B96 B98</td>\n",
              "      <td>Q</td>\n",
              "    </tr>\n",
              "    <tr>\n",
              "      <th>...</th>\n",
              "      <td>...</td>\n",
              "      <td>...</td>\n",
              "      <td>...</td>\n",
              "      <td>...</td>\n",
              "      <td>...</td>\n",
              "      <td>...</td>\n",
              "      <td>...</td>\n",
              "      <td>...</td>\n",
              "      <td>...</td>\n",
              "      <td>...</td>\n",
              "      <td>...</td>\n",
              "      <td>...</td>\n",
              "    </tr>\n",
              "    <tr>\n",
              "      <th>886</th>\n",
              "      <td>887</td>\n",
              "      <td>0</td>\n",
              "      <td>2</td>\n",
              "      <td>Montvila, Rev. Juozas</td>\n",
              "      <td>male</td>\n",
              "      <td>27.000000</td>\n",
              "      <td>0</td>\n",
              "      <td>0</td>\n",
              "      <td>211536</td>\n",
              "      <td>13.0000</td>\n",
              "      <td>B96 B98</td>\n",
              "      <td>S</td>\n",
              "    </tr>\n",
              "    <tr>\n",
              "      <th>887</th>\n",
              "      <td>888</td>\n",
              "      <td>1</td>\n",
              "      <td>1</td>\n",
              "      <td>Graham, Miss. Margaret Edith</td>\n",
              "      <td>female</td>\n",
              "      <td>19.000000</td>\n",
              "      <td>0</td>\n",
              "      <td>0</td>\n",
              "      <td>112053</td>\n",
              "      <td>30.0000</td>\n",
              "      <td>B42</td>\n",
              "      <td>S</td>\n",
              "    </tr>\n",
              "    <tr>\n",
              "      <th>888</th>\n",
              "      <td>889</td>\n",
              "      <td>0</td>\n",
              "      <td>3</td>\n",
              "      <td>Johnston, Miss. Catherine Helen \"Carrie\"</td>\n",
              "      <td>female</td>\n",
              "      <td>29.699118</td>\n",
              "      <td>1</td>\n",
              "      <td>2</td>\n",
              "      <td>W./C. 6607</td>\n",
              "      <td>23.4500</td>\n",
              "      <td>B96 B98</td>\n",
              "      <td>S</td>\n",
              "    </tr>\n",
              "    <tr>\n",
              "      <th>889</th>\n",
              "      <td>890</td>\n",
              "      <td>1</td>\n",
              "      <td>1</td>\n",
              "      <td>Behr, Mr. Karl Howell</td>\n",
              "      <td>male</td>\n",
              "      <td>26.000000</td>\n",
              "      <td>0</td>\n",
              "      <td>0</td>\n",
              "      <td>111369</td>\n",
              "      <td>30.0000</td>\n",
              "      <td>C148</td>\n",
              "      <td>C</td>\n",
              "    </tr>\n",
              "    <tr>\n",
              "      <th>890</th>\n",
              "      <td>891</td>\n",
              "      <td>0</td>\n",
              "      <td>3</td>\n",
              "      <td>Dooley, Mr. Patrick</td>\n",
              "      <td>male</td>\n",
              "      <td>32.000000</td>\n",
              "      <td>0</td>\n",
              "      <td>0</td>\n",
              "      <td>370376</td>\n",
              "      <td>7.7500</td>\n",
              "      <td>B96 B98</td>\n",
              "      <td>Q</td>\n",
              "    </tr>\n",
              "  </tbody>\n",
              "</table>\n",
              "<p>751 rows × 12 columns</p>\n",
              "</div>"
            ],
            "text/plain": [
              "     PassengerId  Survived  Pclass  \\\n",
              "0              1         0       3   \n",
              "1              2         1       1   \n",
              "3              4         1       1   \n",
              "4              5         0       3   \n",
              "5              6         0       3   \n",
              "..           ...       ...     ...   \n",
              "886          887         0       2   \n",
              "887          888         1       1   \n",
              "888          889         0       3   \n",
              "889          890         1       1   \n",
              "890          891         0       3   \n",
              "\n",
              "                                                  Name     Sex        Age  \\\n",
              "0                              Braund, Mr. Owen Harris    male  22.000000   \n",
              "1    Cumings, Mrs. John Bradley (Florence Briggs Th...  female  38.000000   \n",
              "3         Futrelle, Mrs. Jacques Heath (Lily May Peel)  female  35.000000   \n",
              "4                             Allen, Mr. William Henry    male  35.000000   \n",
              "5                                     Moran, Mr. James    male  29.699118   \n",
              "..                                                 ...     ...        ...   \n",
              "886                              Montvila, Rev. Juozas    male  27.000000   \n",
              "887                       Graham, Miss. Margaret Edith  female  19.000000   \n",
              "888           Johnston, Miss. Catherine Helen \"Carrie\"  female  29.699118   \n",
              "889                              Behr, Mr. Karl Howell    male  26.000000   \n",
              "890                                Dooley, Mr. Patrick    male  32.000000   \n",
              "\n",
              "     SibSp  Parch      Ticket     Fare    Cabin Embarked  \n",
              "0        1      0   A/5 21171   7.2500  B96 B98        S  \n",
              "1        1      0    PC 17599  71.2833      C85        C  \n",
              "3        1      0      113803  53.1000     C123        S  \n",
              "4        0      0      373450   8.0500  B96 B98        S  \n",
              "5        0      0      330877   8.4583  B96 B98        Q  \n",
              "..     ...    ...         ...      ...      ...      ...  \n",
              "886      0      0      211536  13.0000  B96 B98        S  \n",
              "887      0      0      112053  30.0000      B42        S  \n",
              "888      1      2  W./C. 6607  23.4500  B96 B98        S  \n",
              "889      0      0      111369  30.0000     C148        C  \n",
              "890      0      0      370376   7.7500  B96 B98        Q  \n",
              "\n",
              "[751 rows x 12 columns]"
            ]
          },
          "execution_count": 58,
          "metadata": {},
          "output_type": "execute_result"
        }
      ],
      "source": [
        "df.drop([2, 32, 35, 53, 62, 63, 73, 93, 98, 103, 119, 121, 125, 140, 152, 156, 216, 219, 225, 231, 246, 257, 258, 259, 263, 270, 291, 292, 300, 307, 308, 311, 312, 319, 320])"
      ]
    },
    {
      "cell_type": "code",
      "execution_count": null,
      "id": "3768fcc2",
      "metadata": {
        "id": "3768fcc2",
        "outputId": "68c7e0d7-c494-4ca7-f894-59588264abc8"
      },
      "outputs": [
        {
          "data": {
            "image/png": "[encoded data removed]",
            "text/plain": [
              "<Figure size 432x288 with 1 Axes>"
            ]
          },
          "metadata": {
            "needs_background": "light"
          },
          "output_type": "display_data"
        }
      ],
      "source": [
        "#boxplot of 'Fare'\n",
        "plt.boxplot(df['Fare'])\n",
        "plt.show()"
      ]
    },
    {
      "cell_type": "markdown",
      "id": "d101b2fe",
      "metadata": {
        "id": "d101b2fe"
      },
      "source": [
        "## 6. Do min max scaling on the feature set (Take ‘Survived’ as target)."
      ]
    },
    {
      "cell_type": "code",
      "execution_count": null,
      "id": "bd97eb44",
      "metadata": {
        "id": "bd97eb44"
      },
      "outputs": [],
      "source": [
        "#The dependent variable is stored in y\n",
        "y=df['Survived']\n",
        "#The independent variable is stored in x\n",
        "#The categorical variables name,ticket and cabin are dropped from the model.\n",
        "x=df.drop(['Survived','Name','Ticket','Cabin'],axis=1) "
      ]
    },
    {
      "cell_type": "code",
      "execution_count": null,
      "id": "df01f8e2",
      "metadata": {
        "id": "df01f8e2",
        "outputId": "285d7576-b808-4c45-dd4c-8a2b9731d532"
      },
      "outputs": [
        {
          "data": {
            "text/html": [
              "<div>\n",
              "<style scoped>\n",
              "    .dataframe tbody tr th:only-of-type {\n",
              "        vertical-align: middle;\n",
              "    }\n",
              "\n",
              "    .dataframe tbody tr th {\n",
              "        vertical-align: top;\n",
              "    }\n",
              "\n",
              "    .dataframe thead th {\n",
              "        text-align: right;\n",
              "    }\n",
              "</style>\n",
              "<table border=\"1\" class=\"dataframe\">\n",
              "  <thead>\n",
              "    <tr style=\"text-align: right;\">\n",
              "      <th></th>\n",
              "      <th>PassengerId</th>\n",
              "      <th>Pclass</th>\n",
              "      <th>Age</th>\n",
              "      <th>SibSp</th>\n",
              "      <th>Parch</th>\n",
              "      <th>Fare</th>\n",
              "      <th>Sex_female</th>\n",
              "      <th>Sex_male</th>\n",
              "      <th>Embarked_C</th>\n",
              "      <th>Embarked_Q</th>\n",
              "      <th>Embarked_S</th>\n",
              "    </tr>\n",
              "  </thead>\n",
              "  <tbody>\n",
              "    <tr>\n",
              "      <th>0</th>\n",
              "      <td>1</td>\n",
              "      <td>3</td>\n",
              "      <td>22.000000</td>\n",
              "      <td>1</td>\n",
              "      <td>0</td>\n",
              "      <td>7.2500</td>\n",
              "      <td>0</td>\n",
              "      <td>1</td>\n",
              "      <td>0</td>\n",
              "      <td>0</td>\n",
              "      <td>1</td>\n",
              "    </tr>\n",
              "    <tr>\n",
              "      <th>1</th>\n",
              "      <td>2</td>\n",
              "      <td>1</td>\n",
              "      <td>38.000000</td>\n",
              "      <td>1</td>\n",
              "      <td>0</td>\n",
              "      <td>71.2833</td>\n",
              "      <td>1</td>\n",
              "      <td>0</td>\n",
              "      <td>1</td>\n",
              "      <td>0</td>\n",
              "      <td>0</td>\n",
              "    </tr>\n",
              "    <tr>\n",
              "      <th>2</th>\n",
              "      <td>3</td>\n",
              "      <td>3</td>\n",
              "      <td>26.000000</td>\n",
              "      <td>0</td>\n",
              "      <td>0</td>\n",
              "      <td>7.9250</td>\n",
              "      <td>1</td>\n",
              "      <td>0</td>\n",
              "      <td>0</td>\n",
              "      <td>0</td>\n",
              "      <td>1</td>\n",
              "    </tr>\n",
              "    <tr>\n",
              "      <th>3</th>\n",
              "      <td>4</td>\n",
              "      <td>1</td>\n",
              "      <td>35.000000</td>\n",
              "      <td>1</td>\n",
              "      <td>0</td>\n",
              "      <td>53.1000</td>\n",
              "      <td>1</td>\n",
              "      <td>0</td>\n",
              "      <td>0</td>\n",
              "      <td>0</td>\n",
              "      <td>1</td>\n",
              "    </tr>\n",
              "    <tr>\n",
              "      <th>4</th>\n",
              "      <td>5</td>\n",
              "      <td>3</td>\n",
              "      <td>35.000000</td>\n",
              "      <td>0</td>\n",
              "      <td>0</td>\n",
              "      <td>8.0500</td>\n",
              "      <td>0</td>\n",
              "      <td>1</td>\n",
              "      <td>0</td>\n",
              "      <td>0</td>\n",
              "      <td>1</td>\n",
              "    </tr>\n",
              "    <tr>\n",
              "      <th>...</th>\n",
              "      <td>...</td>\n",
              "      <td>...</td>\n",
              "      <td>...</td>\n",
              "      <td>...</td>\n",
              "      <td>...</td>\n",
              "      <td>...</td>\n",
              "      <td>...</td>\n",
              "      <td>...</td>\n",
              "      <td>...</td>\n",
              "      <td>...</td>\n",
              "      <td>...</td>\n",
              "    </tr>\n",
              "    <tr>\n",
              "      <th>886</th>\n",
              "      <td>887</td>\n",
              "      <td>2</td>\n",
              "      <td>27.000000</td>\n",
              "      <td>0</td>\n",
              "      <td>0</td>\n",
              "      <td>13.0000</td>\n",
              "      <td>0</td>\n",
              "      <td>1</td>\n",
              "      <td>0</td>\n",
              "      <td>0</td>\n",
              "      <td>1</td>\n",
              "    </tr>\n",
              "    <tr>\n",
              "      <th>887</th>\n",
              "      <td>888</td>\n",
              "      <td>1</td>\n",
              "      <td>19.000000</td>\n",
              "      <td>0</td>\n",
              "      <td>0</td>\n",
              "      <td>30.0000</td>\n",
              "      <td>1</td>\n",
              "      <td>0</td>\n",
              "      <td>0</td>\n",
              "      <td>0</td>\n",
              "      <td>1</td>\n",
              "    </tr>\n",
              "    <tr>\n",
              "      <th>888</th>\n",
              "      <td>889</td>\n",
              "      <td>3</td>\n",
              "      <td>29.699118</td>\n",
              "      <td>1</td>\n",
              "      <td>2</td>\n",
              "      <td>23.4500</td>\n",
              "      <td>1</td>\n",
              "      <td>0</td>\n",
              "      <td>0</td>\n",
              "      <td>0</td>\n",
              "      <td>1</td>\n",
              "    </tr>\n",
              "    <tr>\n",
              "      <th>889</th>\n",
              "      <td>890</td>\n",
              "      <td>1</td>\n",
              "      <td>26.000000</td>\n",
              "      <td>0</td>\n",
              "      <td>0</td>\n",
              "      <td>30.0000</td>\n",
              "      <td>0</td>\n",
              "      <td>1</td>\n",
              "      <td>1</td>\n",
              "      <td>0</td>\n",
              "      <td>0</td>\n",
              "    </tr>\n",
              "    <tr>\n",
              "      <th>890</th>\n",
              "      <td>891</td>\n",
              "      <td>3</td>\n",
              "      <td>32.000000</td>\n",
              "      <td>0</td>\n",
              "      <td>0</td>\n",
              "      <td>7.7500</td>\n",
              "      <td>0</td>\n",
              "      <td>1</td>\n",
              "      <td>0</td>\n",
              "      <td>1</td>\n",
              "      <td>0</td>\n",
              "    </tr>\n",
              "  </tbody>\n",
              "</table>\n",
              "<p>786 rows × 11 columns</p>\n",
              "</div>"
            ],
            "text/plain": [
              "     PassengerId  Pclass        Age  SibSp  Parch     Fare  Sex_female  \\\n",
              "0              1       3  22.000000      1      0   7.2500           0   \n",
              "1              2       1  38.000000      1      0  71.2833           1   \n",
              "2              3       3  26.000000      0      0   7.9250           1   \n",
              "3              4       1  35.000000      1      0  53.1000           1   \n",
              "4              5       3  35.000000      0      0   8.0500           0   \n",
              "..           ...     ...        ...    ...    ...      ...         ...   \n",
              "886          887       2  27.000000      0      0  13.0000           0   \n",
              "887          888       1  19.000000      0      0  30.0000           1   \n",
              "888          889       3  29.699118      1      2  23.4500           1   \n",
              "889          890       1  26.000000      0      0  30.0000           0   \n",
              "890          891       3  32.000000      0      0   7.7500           0   \n",
              "\n",
              "     Sex_male  Embarked_C  Embarked_Q  Embarked_S  \n",
              "0           1           0           0           1  \n",
              "1           0           1           0           0  \n",
              "2           0           0           0           1  \n",
              "3           0           0           0           1  \n",
              "4           1           0           0           1  \n",
              "..        ...         ...         ...         ...  \n",
              "886         1           0           0           1  \n",
              "887         0           0           0           1  \n",
              "888         0           0           0           1  \n",
              "889         1           1           0           0  \n",
              "890         1           0           1           0  \n",
              "\n",
              "[786 rows x 11 columns]"
            ]
          },
          "execution_count": 62,
          "metadata": {},
          "output_type": "execute_result"
        }
      ],
      "source": [
        "#One hot encoding on the categorical variables 'Sex' and 'Embarked'\n",
        "x=pd.get_dummies(x)\n",
        "x"
      ]
    },
    {
      "cell_type": "code",
      "execution_count": null,
      "id": "a027c7ec",
      "metadata": {
        "id": "a027c7ec"
      },
      "outputs": [],
      "source": [
        "#splitting the dataset for training the model and validating\n",
        "from sklearn.model_selection import train_test_split\n",
        "x_train,x_test,y_train,y_test=train_test_split(x,y,random_state=42,test_size=0.25)"
      ]
    },
    {
      "cell_type": "code",
      "execution_count": null,
      "id": "a5801b6f",
      "metadata": {
        "id": "a5801b6f"
      },
      "outputs": [],
      "source": [
        "#Linear model\n",
        "from sklearn import linear_model\n",
        "lr=linear_model.LinearRegression()\n",
        "model1=lr.fit(x_train,y_train)\n",
        "predictions1=model1.predict(x_test)"
      ]
    },
    {
      "cell_type": "code",
      "execution_count": null,
      "id": "184e752e",
      "metadata": {
        "id": "184e752e",
        "outputId": "136164b0-ee43-4cc9-f869-1c98ea41402a"
      },
      "outputs": [
        {
          "name": "stdout",
          "output_type": "stream",
          "text": [
            "Mean of squared errors of the linear regression model is  0.138\n"
          ]
        }
      ],
      "source": [
        "from sklearn.metrics import mean_squared_error\n",
        "MSE1=mean_squared_error(predictions1,y_test)\n",
        "print('Mean of squared errors of the linear regression model is ',round(MSE1,3))"
      ]
    },
    {
      "cell_type": "code",
      "execution_count": null,
      "id": "e26a0ad7",
      "metadata": {
        "id": "e26a0ad7",
        "outputId": "a9e31720-34f7-4062-8ce1-a793ba79cbe5"
      },
      "outputs": [
        {
          "name": "stdout",
          "output_type": "stream",
          "text": [
            "R2 value of the linear regression model is  -0.452\n"
          ]
        }
      ],
      "source": [
        "from sklearn.metrics import r2_score\n",
        "lr_r2=r2_score(predictions1,y_test)\n",
        "print('R2 value of the linear regression model is ',round(lr_r2,3))"
      ]
    },
    {
      "cell_type": "code",
      "execution_count": null,
      "id": "2536dcf3",
      "metadata": {
        "id": "2536dcf3",
        "outputId": "fb7106fe-243c-420e-b1e9-3c9d6caf148c"
      },
      "outputs": [
        {
          "data": {
            "text/html": [
              "<div>\n",
              "<style scoped>\n",
              "    .dataframe tbody tr th:only-of-type {\n",
              "        vertical-align: middle;\n",
              "    }\n",
              "\n",
              "    .dataframe tbody tr th {\n",
              "        vertical-align: top;\n",
              "    }\n",
              "\n",
              "    .dataframe thead th {\n",
              "        text-align: right;\n",
              "    }\n",
              "</style>\n",
              "<table border=\"1\" class=\"dataframe\">\n",
              "  <thead>\n",
              "    <tr style=\"text-align: right;\">\n",
              "      <th></th>\n",
              "      <th>0</th>\n",
              "      <th>1</th>\n",
              "      <th>2</th>\n",
              "      <th>3</th>\n",
              "      <th>4</th>\n",
              "      <th>5</th>\n",
              "      <th>6</th>\n",
              "      <th>7</th>\n",
              "      <th>8</th>\n",
              "      <th>9</th>\n",
              "      <th>10</th>\n",
              "    </tr>\n",
              "  </thead>\n",
              "  <tbody>\n",
              "    <tr>\n",
              "      <th>count</th>\n",
              "      <td>786.000000</td>\n",
              "      <td>786.000000</td>\n",
              "      <td>786.000000</td>\n",
              "      <td>786.000000</td>\n",
              "      <td>786.000000</td>\n",
              "      <td>786.000000</td>\n",
              "      <td>786.000000</td>\n",
              "      <td>786.000000</td>\n",
              "      <td>786.000000</td>\n",
              "      <td>786.000000</td>\n",
              "      <td>786.000000</td>\n",
              "    </tr>\n",
              "    <tr>\n",
              "      <th>mean</th>\n",
              "      <td>0.505023</td>\n",
              "      <td>0.653944</td>\n",
              "      <td>0.368431</td>\n",
              "      <td>0.064408</td>\n",
              "      <td>0.063189</td>\n",
              "      <td>0.062958</td>\n",
              "      <td>0.358779</td>\n",
              "      <td>0.641221</td>\n",
              "      <td>0.184478</td>\n",
              "      <td>0.086514</td>\n",
              "      <td>0.729008</td>\n",
              "    </tr>\n",
              "    <tr>\n",
              "      <th>std</th>\n",
              "      <td>0.286965</td>\n",
              "      <td>0.418327</td>\n",
              "      <td>0.162464</td>\n",
              "      <td>0.139117</td>\n",
              "      <td>0.133945</td>\n",
              "      <td>0.099559</td>\n",
              "      <td>0.479947</td>\n",
              "      <td>0.479947</td>\n",
              "      <td>0.388121</td>\n",
              "      <td>0.281301</td>\n",
              "      <td>0.444755</td>\n",
              "    </tr>\n",
              "    <tr>\n",
              "      <th>min</th>\n",
              "      <td>0.000000</td>\n",
              "      <td>0.000000</td>\n",
              "      <td>0.000000</td>\n",
              "      <td>0.000000</td>\n",
              "      <td>0.000000</td>\n",
              "      <td>0.000000</td>\n",
              "      <td>0.000000</td>\n",
              "      <td>0.000000</td>\n",
              "      <td>0.000000</td>\n",
              "      <td>0.000000</td>\n",
              "      <td>0.000000</td>\n",
              "    </tr>\n",
              "    <tr>\n",
              "      <th>25%</th>\n",
              "      <td>0.259831</td>\n",
              "      <td>0.500000</td>\n",
              "      <td>0.271174</td>\n",
              "      <td>0.000000</td>\n",
              "      <td>0.000000</td>\n",
              "      <td>0.015426</td>\n",
              "      <td>0.000000</td>\n",
              "      <td>0.000000</td>\n",
              "      <td>0.000000</td>\n",
              "      <td>0.000000</td>\n",
              "      <td>0.000000</td>\n",
              "    </tr>\n",
              "    <tr>\n",
              "      <th>50%</th>\n",
              "      <td>0.503933</td>\n",
              "      <td>1.000000</td>\n",
              "      <td>0.367921</td>\n",
              "      <td>0.000000</td>\n",
              "      <td>0.000000</td>\n",
              "      <td>0.028213</td>\n",
              "      <td>0.000000</td>\n",
              "      <td>1.000000</td>\n",
              "      <td>0.000000</td>\n",
              "      <td>0.000000</td>\n",
              "      <td>1.000000</td>\n",
              "    </tr>\n",
              "    <tr>\n",
              "      <th>75%</th>\n",
              "      <td>0.752528</td>\n",
              "      <td>1.000000</td>\n",
              "      <td>0.434531</td>\n",
              "      <td>0.125000</td>\n",
              "      <td>0.000000</td>\n",
              "      <td>0.059532</td>\n",
              "      <td>1.000000</td>\n",
              "      <td>1.000000</td>\n",
              "      <td>0.000000</td>\n",
              "      <td>0.000000</td>\n",
              "      <td>1.000000</td>\n",
              "    </tr>\n",
              "    <tr>\n",
              "      <th>max</th>\n",
              "      <td>1.000000</td>\n",
              "      <td>1.000000</td>\n",
              "      <td>1.000000</td>\n",
              "      <td>1.000000</td>\n",
              "      <td>1.000000</td>\n",
              "      <td>1.000000</td>\n",
              "      <td>1.000000</td>\n",
              "      <td>1.000000</td>\n",
              "      <td>1.000000</td>\n",
              "      <td>1.000000</td>\n",
              "      <td>1.000000</td>\n",
              "    </tr>\n",
              "  </tbody>\n",
              "</table>\n",
              "</div>"
            ],
            "text/plain": [
              "               0           1           2           3           4           5   \\\n",
              "count  786.000000  786.000000  786.000000  786.000000  786.000000  786.000000   \n",
              "mean     0.505023    0.653944    0.368431    0.064408    0.063189    0.062958   \n",
              "std      0.286965    0.418327    0.162464    0.139117    0.133945    0.099559   \n",
              "min      0.000000    0.000000    0.000000    0.000000    0.000000    0.000000   \n",
              "25%      0.259831    0.500000    0.271174    0.000000    0.000000    0.015426   \n",
              "50%      0.503933    1.000000    0.367921    0.000000    0.000000    0.028213   \n",
              "75%      0.752528    1.000000    0.434531    0.125000    0.000000    0.059532   \n",
              "max      1.000000    1.000000    1.000000    1.000000    1.000000    1.000000   \n",
              "\n",
              "               6           7           8           9           10  \n",
              "count  786.000000  786.000000  786.000000  786.000000  786.000000  \n",
              "mean     0.358779    0.641221    0.184478    0.086514    0.729008  \n",
              "std      0.479947    0.479947    0.388121    0.281301    0.444755  \n",
              "min      0.000000    0.000000    0.000000    0.000000    0.000000  \n",
              "25%      0.000000    0.000000    0.000000    0.000000    0.000000  \n",
              "50%      0.000000    1.000000    0.000000    0.000000    1.000000  \n",
              "75%      1.000000    1.000000    0.000000    0.000000    1.000000  \n",
              "max      1.000000    1.000000    1.000000    1.000000    1.000000  "
            ]
          },
          "execution_count": 67,
          "metadata": {},
          "output_type": "execute_result"
        }
      ],
      "source": [
        "#min max scaling\n",
        "from sklearn import preprocessing\n",
        "min_max=preprocessing.MinMaxScaler()\n",
        "x=min_max.fit_transform(x)\n",
        "x=pd.DataFrame(x)\n",
        "x.describe()"
      ]
    },
    {
      "cell_type": "code",
      "execution_count": null,
      "id": "4fb67bed",
      "metadata": {
        "id": "4fb67bed",
        "outputId": "dacb57ef-7ad5-42f6-bed6-c32c6dbfc369"
      },
      "outputs": [
        {
          "name": "stdout",
          "output_type": "stream",
          "text": [
            "Mean of squared errors of the linear regression model is  0.146\n"
          ]
        }
      ],
      "source": [
        "from sklearn.model_selection import train_test_split\n",
        "x_train,x_test,y_train,y_test=train_test_split(x,y,random_state=42,test_size=0.2)\n",
        "#Linear model\n",
        "from sklearn import linear_model\n",
        "lr=linear_model.LinearRegression()\n",
        "model1=lr.fit(x_train,y_train)\n",
        "predictions1=model1.predict(x_test)\n",
        "from sklearn.metrics import mean_squared_error\n",
        "MSE1=mean_squared_error(predictions1,y_test)\n",
        "print('Mean of squared errors of the linear regression model is ',round(MSE1,3))"
      ]
    },
    {
      "cell_type": "code",
      "execution_count": null,
      "id": "f376cd8a",
      "metadata": {
        "id": "f376cd8a"
      },
      "outputs": [],
      "source": [
        ""
      ]
    }
  ],
  "metadata": {
    "kernelspec": {
      "display_name": "Python 3 (ipykernel)",
      "language": "python",
      "name": "python3"
    },
    "language_info": {
      "codemirror_mode": {
        "name": "ipython",
        "version": 3
      },
      "file_extension": ".py",
      "mimetype": "text/x-python",
      "name": "python",
      "nbconvert_exporter": "python",
      "pygments_lexer": "ipython3",
      "version": "3.8.8"
    },
    "colab": {
      "name": "Case_study_6.ipynb",
      "provenance": []
    }
  },
  "nbformat": 4,
  "nbformat_minor": 5
}