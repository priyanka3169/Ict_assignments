{
  "nbformat": 4,
  "nbformat_minor": 0,
  "metadata": {
    "colab": {
      "name": "Case Study #05 - ANOVA.ipynb",
      "provenance": []
    },
    "kernelspec": {
      "name": "python3",
      "display_name": "Python 3"
    },
    "language_info": {
      "name": "python"
    }
  },
  "cells": [
    {
      "cell_type": "code",
      "execution_count": 1,
      "metadata": {
        "id": "WU4Kp3RKHsKh"
      },
      "outputs": [],
      "source": [
        "import pandas as pd\n",
        "import scipy.stats as stats\n",
        "import matplotlib.pyplot as plt\n",
        "import seaborn as sns\n",
        "import warnings\n",
        "warnings.filterwarnings('ignore')\n"
      ]
    },
    {
      "cell_type": "code",
      "source": [
        "df=pd.read_csv('Sales_data_zone_wise.csv')\n",
        "df.head()\n",
        "\n"
      ],
      "metadata": {
        "colab": {
          "base_uri": "https://localhost:8080/",
          "height": 206
        },
        "id": "x3U7LMcqH3Qd",
        "outputId": "0d9f3988-efef-4ba5-d5a9-974d1b11b17b"
      },
      "execution_count": 3,
      "outputs": [
        {
          "output_type": "execute_result",
          "data": {
            "text/html": [
              "\n",
              "  <div id=\"df-5136308b-d2e5-4231-805e-3bba3de6f8b9\">\n",
              "    <div class=\"colab-df-container\">\n",
              "      <div>\n",
              "<style scoped>\n",
              "    .dataframe tbody tr th:only-of-type {\n",
              "        vertical-align: middle;\n",
              "    }\n",
              "\n",
              "    .dataframe tbody tr th {\n",
              "        vertical-align: top;\n",
              "    }\n",
              "\n",
              "    .dataframe thead th {\n",
              "        text-align: right;\n",
              "    }\n",
              "</style>\n",
              "<table border=\"1\" class=\"dataframe\">\n",
              "  <thead>\n",
              "    <tr style=\"text-align: right;\">\n",
              "      <th></th>\n",
              "      <th>Month</th>\n",
              "      <th>Zone - A</th>\n",
              "      <th>Zone - B</th>\n",
              "      <th>Zone - C</th>\n",
              "      <th>Zone - D</th>\n",
              "    </tr>\n",
              "  </thead>\n",
              "  <tbody>\n",
              "    <tr>\n",
              "      <th>0</th>\n",
              "      <td>Month - 1</td>\n",
              "      <td>1483525</td>\n",
              "      <td>1748451</td>\n",
              "      <td>1523308</td>\n",
              "      <td>2267260</td>\n",
              "    </tr>\n",
              "    <tr>\n",
              "      <th>1</th>\n",
              "      <td>Month - 2</td>\n",
              "      <td>1238428</td>\n",
              "      <td>1707421</td>\n",
              "      <td>2212113</td>\n",
              "      <td>1994341</td>\n",
              "    </tr>\n",
              "    <tr>\n",
              "      <th>2</th>\n",
              "      <td>Month - 3</td>\n",
              "      <td>1860771</td>\n",
              "      <td>2091194</td>\n",
              "      <td>1282374</td>\n",
              "      <td>1241600</td>\n",
              "    </tr>\n",
              "    <tr>\n",
              "      <th>3</th>\n",
              "      <td>Month - 4</td>\n",
              "      <td>1871571</td>\n",
              "      <td>1759617</td>\n",
              "      <td>2290580</td>\n",
              "      <td>2252681</td>\n",
              "    </tr>\n",
              "    <tr>\n",
              "      <th>4</th>\n",
              "      <td>Month - 5</td>\n",
              "      <td>1244922</td>\n",
              "      <td>1606010</td>\n",
              "      <td>1818334</td>\n",
              "      <td>1326062</td>\n",
              "    </tr>\n",
              "  </tbody>\n",
              "</table>\n",
              "</div>\n",
              "      <button class=\"colab-df-convert\" onclick=\"convertToInteractive('df-5136308b-d2e5-4231-805e-3bba3de6f8b9')\"\n",
              "              title=\"Convert this dataframe to an interactive table.\"\n",
              "              style=\"display:none;\">\n",
              "        \n",
              "  <svg xmlns=\"http://www.w3.org/2000/svg\" height=\"24px\"viewBox=\"0 0 24 24\"\n",
              "       width=\"24px\">\n",
              "    <path d=\"M0 0h24v24H0V0z\" fill=\"none\"/>\n",
              "    <path d=\"M18.56 5.44l.94 2.06.94-2.06 2.06-.94-2.06-.94-.94-2.06-.94 2.06-2.06.94zm-11 1L8.5 8.5l.94-2.06 2.06-.94-2.06-.94L8.5 2.5l-.94 2.06-2.06.94zm10 10l.94 2.06.94-2.06 2.06-.94-2.06-.94-.94-2.06-.94 2.06-2.06.94z\"/><path d=\"M17.41 7.96l-1.37-1.37c-.4-.4-.92-.59-1.43-.59-.52 0-1.04.2-1.43.59L10.3 9.45l-7.72 7.72c-.78.78-.78 2.05 0 2.83L4 21.41c.39.39.9.59 1.41.59.51 0 1.02-.2 1.41-.59l7.78-7.78 2.81-2.81c.8-.78.8-2.07 0-2.86zM5.41 20L4 18.59l7.72-7.72 1.47 1.35L5.41 20z\"/>\n",
              "  </svg>\n",
              "      </button>\n",
              "      \n",
              "  <style>\n",
              "    .colab-df-container {\n",
              "      display:flex;\n",
              "      flex-wrap:wrap;\n",
              "      gap: 12px;\n",
              "    }\n",
              "\n",
              "    .colab-df-convert {\n",
              "      background-color: #E8F0FE;\n",
              "      border: none;\n",
              "      border-radius: 50%;\n",
              "      cursor: pointer;\n",
              "      display: none;\n",
              "      fill: #1967D2;\n",
              "      height: 32px;\n",
              "      padding: 0 0 0 0;\n",
              "      width: 32px;\n",
              "    }\n",
              "\n",
              "    .colab-df-convert:hover {\n",
              "      background-color: #E2EBFA;\n",
              "      box-shadow: 0px 1px 2px rgba(60, 64, 67, 0.3), 0px 1px 3px 1px rgba(60, 64, 67, 0.15);\n",
              "      fill: #174EA6;\n",
              "    }\n",
              "\n",
              "    [theme=dark] .colab-df-convert {\n",
              "      background-color: #3B4455;\n",
              "      fill: #D2E3FC;\n",
              "    }\n",
              "\n",
              "    [theme=dark] .colab-df-convert:hover {\n",
              "      background-color: #434B5C;\n",
              "      box-shadow: 0px 1px 3px 1px rgba(0, 0, 0, 0.15);\n",
              "      filter: drop-shadow(0px 1px 2px rgba(0, 0, 0, 0.3));\n",
              "      fill: #FFFFFF;\n",
              "    }\n",
              "  </style>\n",
              "\n",
              "      <script>\n",
              "        const buttonEl =\n",
              "          document.querySelector('#df-5136308b-d2e5-4231-805e-3bba3de6f8b9 button.colab-df-convert');\n",
              "        buttonEl.style.display =\n",
              "          google.colab.kernel.accessAllowed ? 'block' : 'none';\n",
              "\n",
              "        async function convertToInteractive(key) {\n",
              "          const element = document.querySelector('#df-5136308b-d2e5-4231-805e-3bba3de6f8b9');\n",
              "          const dataTable =\n",
              "            await google.colab.kernel.invokeFunction('convertToInteractive',\n",
              "                                                     [key], {});\n",
              "          if (!dataTable) return;\n",
              "\n",
              "          const docLinkHtml = 'Like what you see? Visit the ' +\n",
              "            '<a target=\"_blank\" href=https://colab.research.google.com/notebooks/data_table.ipynb>data table notebook</a>'\n",
              "            + ' to learn more about interactive tables.';\n",
              "          element.innerHTML = '';\n",
              "          dataTable['output_type'] = 'display_data';\n",
              "          await google.colab.output.renderOutput(dataTable, element);\n",
              "          const docLink = document.createElement('div');\n",
              "          docLink.innerHTML = docLinkHtml;\n",
              "          element.appendChild(docLink);\n",
              "        }\n",
              "      </script>\n",
              "    </div>\n",
              "  </div>\n",
              "  "
            ],
            "text/plain": [
              "       Month  Zone - A  Zone - B  Zone - C  Zone - D\n",
              "0  Month - 1   1483525   1748451   1523308   2267260\n",
              "1  Month - 2   1238428   1707421   2212113   1994341\n",
              "2  Month - 3   1860771   2091194   1282374   1241600\n",
              "3  Month - 4   1871571   1759617   2290580   2252681\n",
              "4  Month - 5   1244922   1606010   1818334   1326062"
            ]
          },
          "metadata": {},
          "execution_count": 3
        }
      ]
    },
    {
      "cell_type": "code",
      "source": [
        "df.tail()\n"
      ],
      "metadata": {
        "colab": {
          "base_uri": "https://localhost:8080/",
          "height": 206
        },
        "id": "3Ef45-VkH3ZO",
        "outputId": "3527b0f2-4c82-4b5e-fe6c-ef74b4ac69d0"
      },
      "execution_count": 4,
      "outputs": [
        {
          "output_type": "execute_result",
          "data": {
            "text/html": [
              "\n",
              "  <div id=\"df-7e45262c-0018-48bf-9ddd-d60c78e60634\">\n",
              "    <div class=\"colab-df-container\">\n",
              "      <div>\n",
              "<style scoped>\n",
              "    .dataframe tbody tr th:only-of-type {\n",
              "        vertical-align: middle;\n",
              "    }\n",
              "\n",
              "    .dataframe tbody tr th {\n",
              "        vertical-align: top;\n",
              "    }\n",
              "\n",
              "    .dataframe thead th {\n",
              "        text-align: right;\n",
              "    }\n",
              "</style>\n",
              "<table border=\"1\" class=\"dataframe\">\n",
              "  <thead>\n",
              "    <tr style=\"text-align: right;\">\n",
              "      <th></th>\n",
              "      <th>Month</th>\n",
              "      <th>Zone - A</th>\n",
              "      <th>Zone - B</th>\n",
              "      <th>Zone - C</th>\n",
              "      <th>Zone - D</th>\n",
              "    </tr>\n",
              "  </thead>\n",
              "  <tbody>\n",
              "    <tr>\n",
              "      <th>24</th>\n",
              "      <td>Month - 25</td>\n",
              "      <td>1256333</td>\n",
              "      <td>1622671</td>\n",
              "      <td>1521792</td>\n",
              "      <td>1695122</td>\n",
              "    </tr>\n",
              "    <tr>\n",
              "      <th>25</th>\n",
              "      <td>Month - 26</td>\n",
              "      <td>1422853</td>\n",
              "      <td>1715465</td>\n",
              "      <td>1853636</td>\n",
              "      <td>1520406</td>\n",
              "    </tr>\n",
              "    <tr>\n",
              "      <th>26</th>\n",
              "      <td>Month - 27</td>\n",
              "      <td>1384426</td>\n",
              "      <td>1983163</td>\n",
              "      <td>1611169</td>\n",
              "      <td>1289160</td>\n",
              "    </tr>\n",
              "    <tr>\n",
              "      <th>27</th>\n",
              "      <td>Month - 28</td>\n",
              "      <td>1616640</td>\n",
              "      <td>1547991</td>\n",
              "      <td>2128022</td>\n",
              "      <td>2178267</td>\n",
              "    </tr>\n",
              "    <tr>\n",
              "      <th>28</th>\n",
              "      <td>Month - 29</td>\n",
              "      <td>1310654</td>\n",
              "      <td>1660092</td>\n",
              "      <td>1947119</td>\n",
              "      <td>1854412</td>\n",
              "    </tr>\n",
              "  </tbody>\n",
              "</table>\n",
              "</div>\n",
              "      <button class=\"colab-df-convert\" onclick=\"convertToInteractive('df-7e45262c-0018-48bf-9ddd-d60c78e60634')\"\n",
              "              title=\"Convert this dataframe to an interactive table.\"\n",
              "              style=\"display:none;\">\n",
              "        \n",
              "  <svg xmlns=\"http://www.w3.org/2000/svg\" height=\"24px\"viewBox=\"0 0 24 24\"\n",
              "       width=\"24px\">\n",
              "    <path d=\"M0 0h24v24H0V0z\" fill=\"none\"/>\n",
              "    <path d=\"M18.56 5.44l.94 2.06.94-2.06 2.06-.94-2.06-.94-.94-2.06-.94 2.06-2.06.94zm-11 1L8.5 8.5l.94-2.06 2.06-.94-2.06-.94L8.5 2.5l-.94 2.06-2.06.94zm10 10l.94 2.06.94-2.06 2.06-.94-2.06-.94-.94-2.06-.94 2.06-2.06.94z\"/><path d=\"M17.41 7.96l-1.37-1.37c-.4-.4-.92-.59-1.43-.59-.52 0-1.04.2-1.43.59L10.3 9.45l-7.72 7.72c-.78.78-.78 2.05 0 2.83L4 21.41c.39.39.9.59 1.41.59.51 0 1.02-.2 1.41-.59l7.78-7.78 2.81-2.81c.8-.78.8-2.07 0-2.86zM5.41 20L4 18.59l7.72-7.72 1.47 1.35L5.41 20z\"/>\n",
              "  </svg>\n",
              "      </button>\n",
              "      \n",
              "  <style>\n",
              "    .colab-df-container {\n",
              "      display:flex;\n",
              "      flex-wrap:wrap;\n",
              "      gap: 12px;\n",
              "    }\n",
              "\n",
              "    .colab-df-convert {\n",
              "      background-color: #E8F0FE;\n",
              "      border: none;\n",
              "      border-radius: 50%;\n",
              "      cursor: pointer;\n",
              "      display: none;\n",
              "      fill: #1967D2;\n",
              "      height: 32px;\n",
              "      padding: 0 0 0 0;\n",
              "      width: 32px;\n",
              "    }\n",
              "\n",
              "    .colab-df-convert:hover {\n",
              "      background-color: #E2EBFA;\n",
              "      box-shadow: 0px 1px 2px rgba(60, 64, 67, 0.3), 0px 1px 3px 1px rgba(60, 64, 67, 0.15);\n",
              "      fill: #174EA6;\n",
              "    }\n",
              "\n",
              "    [theme=dark] .colab-df-convert {\n",
              "      background-color: #3B4455;\n",
              "      fill: #D2E3FC;\n",
              "    }\n",
              "\n",
              "    [theme=dark] .colab-df-convert:hover {\n",
              "      background-color: #434B5C;\n",
              "      box-shadow: 0px 1px 3px 1px rgba(0, 0, 0, 0.15);\n",
              "      filter: drop-shadow(0px 1px 2px rgba(0, 0, 0, 0.3));\n",
              "      fill: #FFFFFF;\n",
              "    }\n",
              "  </style>\n",
              "\n",
              "      <script>\n",
              "        const buttonEl =\n",
              "          document.querySelector('#df-7e45262c-0018-48bf-9ddd-d60c78e60634 button.colab-df-convert');\n",
              "        buttonEl.style.display =\n",
              "          google.colab.kernel.accessAllowed ? 'block' : 'none';\n",
              "\n",
              "        async function convertToInteractive(key) {\n",
              "          const element = document.querySelector('#df-7e45262c-0018-48bf-9ddd-d60c78e60634');\n",
              "          const dataTable =\n",
              "            await google.colab.kernel.invokeFunction('convertToInteractive',\n",
              "                                                     [key], {});\n",
              "          if (!dataTable) return;\n",
              "\n",
              "          const docLinkHtml = 'Like what you see? Visit the ' +\n",
              "            '<a target=\"_blank\" href=https://colab.research.google.com/notebooks/data_table.ipynb>data table notebook</a>'\n",
              "            + ' to learn more about interactive tables.';\n",
              "          element.innerHTML = '';\n",
              "          dataTable['output_type'] = 'display_data';\n",
              "          await google.colab.output.renderOutput(dataTable, element);\n",
              "          const docLink = document.createElement('div');\n",
              "          docLink.innerHTML = docLinkHtml;\n",
              "          element.appendChild(docLink);\n",
              "        }\n",
              "      </script>\n",
              "    </div>\n",
              "  </div>\n",
              "  "
            ],
            "text/plain": [
              "         Month  Zone - A  Zone - B  Zone - C  Zone - D\n",
              "24  Month - 25   1256333   1622671   1521792   1695122\n",
              "25  Month - 26   1422853   1715465   1853636   1520406\n",
              "26  Month - 27   1384426   1983163   1611169   1289160\n",
              "27  Month - 28   1616640   1547991   2128022   2178267\n",
              "28  Month - 29   1310654   1660092   1947119   1854412"
            ]
          },
          "metadata": {},
          "execution_count": 4
        }
      ]
    },
    {
      "cell_type": "code",
      "source": [
        "print('There are ',df.shape[0],'rows and ',df.shape[1],'columns in the dataset.')"
      ],
      "metadata": {
        "colab": {
          "base_uri": "https://localhost:8080/"
        },
        "id": "CoohQCqiH3dA",
        "outputId": "b33ed355-baee-4933-e7e4-6479c738cda0"
      },
      "execution_count": 5,
      "outputs": [
        {
          "output_type": "stream",
          "name": "stdout",
          "text": [
            "There are  29 rows and  5 columns in the dataset.\n"
          ]
        }
      ]
    },
    {
      "cell_type": "code",
      "source": [
        "df.isnull().sum()\n"
      ],
      "metadata": {
        "colab": {
          "base_uri": "https://localhost:8080/"
        },
        "id": "EWP1TXfcH3fe",
        "outputId": "bf7ad4b8-7687-4cb2-864f-e31af8a44760"
      },
      "execution_count": 6,
      "outputs": [
        {
          "output_type": "execute_result",
          "data": {
            "text/plain": [
              "Month       0\n",
              "Zone - A    0\n",
              "Zone - B    0\n",
              "Zone - C    0\n",
              "Zone - D    0\n",
              "dtype: int64"
            ]
          },
          "metadata": {},
          "execution_count": 6
        }
      ]
    },
    {
      "cell_type": "code",
      "source": [
        "df.info()"
      ],
      "metadata": {
        "colab": {
          "base_uri": "https://localhost:8080/"
        },
        "id": "7cUmFQlqH3iv",
        "outputId": "f49f92ca-4c79-4501-88cf-90a7c7ce3353"
      },
      "execution_count": 7,
      "outputs": [
        {
          "output_type": "stream",
          "name": "stdout",
          "text": [
            "<class 'pandas.core.frame.DataFrame'>\n",
            "RangeIndex: 29 entries, 0 to 28\n",
            "Data columns (total 5 columns):\n",
            " #   Column    Non-Null Count  Dtype \n",
            "---  ------    --------------  ----- \n",
            " 0   Month     29 non-null     object\n",
            " 1   Zone - A  29 non-null     int64 \n",
            " 2   Zone - B  29 non-null     int64 \n",
            " 3   Zone - C  29 non-null     int64 \n",
            " 4   Zone - D  29 non-null     int64 \n",
            "dtypes: int64(4), object(1)\n",
            "memory usage: 1.3+ KB\n"
          ]
        }
      ]
    },
    {
      "cell_type": "markdown",
      "source": [
        "**1.Mean sales generated by each zone**"
      ],
      "metadata": {
        "id": "KIt4CNo-IlsF"
      }
    },
    {
      "cell_type": "code",
      "source": [
        "df.drop('Month',axis=1).mean().apply(lambda x: '%.5f' % x)"
      ],
      "metadata": {
        "colab": {
          "base_uri": "https://localhost:8080/"
        },
        "id": "FITrEZiVH3mi",
        "outputId": "8719c4a8-6546-42e0-9367-03e90a9a03b5"
      },
      "execution_count": 8,
      "outputs": [
        {
          "output_type": "execute_result",
          "data": {
            "text/plain": [
              "Zone - A    1540493.13793\n",
              "Zone - B    1755559.58621\n",
              "Zone - C    1772871.03448\n",
              "Zone - D    1842926.75862\n",
              "dtype: object"
            ]
          },
          "metadata": {},
          "execution_count": 8
        }
      ]
    },
    {
      "cell_type": "markdown",
      "source": [
        "**2. Total sales generated by all the zones for each month.**"
      ],
      "metadata": {
        "id": "SUIAka7HI5Nb"
      }
    },
    {
      "cell_type": "code",
      "source": [
        "column_list = list(df)\n",
        "column_list.remove(\"Month\")\n",
        "df1=df\n",
        "df1[\"Total sales per month of all zones\"]= df[column_list].sum(axis=1)\n",
        "df1"
      ],
      "metadata": {
        "colab": {
          "base_uri": "https://localhost:8080/",
          "height": 958
        },
        "id": "HcCVKqxgI8c2",
        "outputId": "bda79cf5-41c4-494c-8e4c-eaaa923ac071"
      },
      "execution_count": 9,
      "outputs": [
        {
          "output_type": "execute_result",
          "data": {
            "text/html": [
              "\n",
              "  <div id=\"df-24c93e7d-f5db-47a9-9092-4fa63f588ece\">\n",
              "    <div class=\"colab-df-container\">\n",
              "      <div>\n",
              "<style scoped>\n",
              "    .dataframe tbody tr th:only-of-type {\n",
              "        vertical-align: middle;\n",
              "    }\n",
              "\n",
              "    .dataframe tbody tr th {\n",
              "        vertical-align: top;\n",
              "    }\n",
              "\n",
              "    .dataframe thead th {\n",
              "        text-align: right;\n",
              "    }\n",
              "</style>\n",
              "<table border=\"1\" class=\"dataframe\">\n",
              "  <thead>\n",
              "    <tr style=\"text-align: right;\">\n",
              "      <th></th>\n",
              "      <th>Month</th>\n",
              "      <th>Zone - A</th>\n",
              "      <th>Zone - B</th>\n",
              "      <th>Zone - C</th>\n",
              "      <th>Zone - D</th>\n",
              "      <th>Total sales per month of all zones</th>\n",
              "    </tr>\n",
              "  </thead>\n",
              "  <tbody>\n",
              "    <tr>\n",
              "      <th>0</th>\n",
              "      <td>Month - 1</td>\n",
              "      <td>1483525</td>\n",
              "      <td>1748451</td>\n",
              "      <td>1523308</td>\n",
              "      <td>2267260</td>\n",
              "      <td>7022544</td>\n",
              "    </tr>\n",
              "    <tr>\n",
              "      <th>1</th>\n",
              "      <td>Month - 2</td>\n",
              "      <td>1238428</td>\n",
              "      <td>1707421</td>\n",
              "      <td>2212113</td>\n",
              "      <td>1994341</td>\n",
              "      <td>7152303</td>\n",
              "    </tr>\n",
              "    <tr>\n",
              "      <th>2</th>\n",
              "      <td>Month - 3</td>\n",
              "      <td>1860771</td>\n",
              "      <td>2091194</td>\n",
              "      <td>1282374</td>\n",
              "      <td>1241600</td>\n",
              "      <td>6475939</td>\n",
              "    </tr>\n",
              "    <tr>\n",
              "      <th>3</th>\n",
              "      <td>Month - 4</td>\n",
              "      <td>1871571</td>\n",
              "      <td>1759617</td>\n",
              "      <td>2290580</td>\n",
              "      <td>2252681</td>\n",
              "      <td>8174449</td>\n",
              "    </tr>\n",
              "    <tr>\n",
              "      <th>4</th>\n",
              "      <td>Month - 5</td>\n",
              "      <td>1244922</td>\n",
              "      <td>1606010</td>\n",
              "      <td>1818334</td>\n",
              "      <td>1326062</td>\n",
              "      <td>5995328</td>\n",
              "    </tr>\n",
              "    <tr>\n",
              "      <th>5</th>\n",
              "      <td>Month - 6</td>\n",
              "      <td>1534390</td>\n",
              "      <td>1573128</td>\n",
              "      <td>1751825</td>\n",
              "      <td>2292044</td>\n",
              "      <td>7151387</td>\n",
              "    </tr>\n",
              "    <tr>\n",
              "      <th>6</th>\n",
              "      <td>Month - 7</td>\n",
              "      <td>1820196</td>\n",
              "      <td>1992031</td>\n",
              "      <td>1786826</td>\n",
              "      <td>1688055</td>\n",
              "      <td>7287108</td>\n",
              "    </tr>\n",
              "    <tr>\n",
              "      <th>7</th>\n",
              "      <td>Month - 8</td>\n",
              "      <td>1625696</td>\n",
              "      <td>1665534</td>\n",
              "      <td>2161754</td>\n",
              "      <td>2363315</td>\n",
              "      <td>7816299</td>\n",
              "    </tr>\n",
              "    <tr>\n",
              "      <th>8</th>\n",
              "      <td>Month - 9</td>\n",
              "      <td>1652644</td>\n",
              "      <td>1873402</td>\n",
              "      <td>1755290</td>\n",
              "      <td>1422059</td>\n",
              "      <td>6703395</td>\n",
              "    </tr>\n",
              "    <tr>\n",
              "      <th>9</th>\n",
              "      <td>Month - 10</td>\n",
              "      <td>1852450</td>\n",
              "      <td>1913059</td>\n",
              "      <td>1754314</td>\n",
              "      <td>1608387</td>\n",
              "      <td>7128210</td>\n",
              "    </tr>\n",
              "    <tr>\n",
              "      <th>10</th>\n",
              "      <td>Month - 11</td>\n",
              "      <td>2004480</td>\n",
              "      <td>1740365</td>\n",
              "      <td>1317869</td>\n",
              "      <td>1970069</td>\n",
              "      <td>7032783</td>\n",
              "    </tr>\n",
              "    <tr>\n",
              "      <th>11</th>\n",
              "      <td>Month - 12</td>\n",
              "      <td>1537539</td>\n",
              "      <td>1875658</td>\n",
              "      <td>1237722</td>\n",
              "      <td>1460165</td>\n",
              "      <td>6111084</td>\n",
              "    </tr>\n",
              "    <tr>\n",
              "      <th>12</th>\n",
              "      <td>Month - 13</td>\n",
              "      <td>1254939</td>\n",
              "      <td>1588473</td>\n",
              "      <td>1348629</td>\n",
              "      <td>1733383</td>\n",
              "      <td>5925424</td>\n",
              "    </tr>\n",
              "    <tr>\n",
              "      <th>13</th>\n",
              "      <td>Month - 14</td>\n",
              "      <td>1821799</td>\n",
              "      <td>1844081</td>\n",
              "      <td>1617376</td>\n",
              "      <td>1872259</td>\n",
              "      <td>7155515</td>\n",
              "    </tr>\n",
              "    <tr>\n",
              "      <th>14</th>\n",
              "      <td>Month - 15</td>\n",
              "      <td>1128185</td>\n",
              "      <td>1804613</td>\n",
              "      <td>1767047</td>\n",
              "      <td>1234311</td>\n",
              "      <td>5934156</td>\n",
              "    </tr>\n",
              "    <tr>\n",
              "      <th>15</th>\n",
              "      <td>Month - 16</td>\n",
              "      <td>1491534</td>\n",
              "      <td>1542053</td>\n",
              "      <td>1882159</td>\n",
              "      <td>1590913</td>\n",
              "      <td>6506659</td>\n",
              "    </tr>\n",
              "    <tr>\n",
              "      <th>16</th>\n",
              "      <td>Month - 17</td>\n",
              "      <td>1182110</td>\n",
              "      <td>1552388</td>\n",
              "      <td>2234469</td>\n",
              "      <td>2180416</td>\n",
              "      <td>7149383</td>\n",
              "    </tr>\n",
              "    <tr>\n",
              "      <th>17</th>\n",
              "      <td>Month - 18</td>\n",
              "      <td>1770324</td>\n",
              "      <td>1699213</td>\n",
              "      <td>1249821</td>\n",
              "      <td>2364132</td>\n",
              "      <td>7083490</td>\n",
              "    </tr>\n",
              "    <tr>\n",
              "      <th>18</th>\n",
              "      <td>Month - 19</td>\n",
              "      <td>1181635</td>\n",
              "      <td>1959268</td>\n",
              "      <td>2009168</td>\n",
              "      <td>1821882</td>\n",
              "      <td>6971953</td>\n",
              "    </tr>\n",
              "    <tr>\n",
              "      <th>19</th>\n",
              "      <td>Month - 20</td>\n",
              "      <td>1305972</td>\n",
              "      <td>1559670</td>\n",
              "      <td>2107949</td>\n",
              "      <td>2151008</td>\n",
              "      <td>7124599</td>\n",
              "    </tr>\n",
              "    <tr>\n",
              "      <th>20</th>\n",
              "      <td>Month - 21</td>\n",
              "      <td>1570152</td>\n",
              "      <td>2013615</td>\n",
              "      <td>1540016</td>\n",
              "      <td>2265814</td>\n",
              "      <td>7389597</td>\n",
              "    </tr>\n",
              "    <tr>\n",
              "      <th>21</th>\n",
              "      <td>Month - 22</td>\n",
              "      <td>1481619</td>\n",
              "      <td>1527574</td>\n",
              "      <td>2255729</td>\n",
              "      <td>2295079</td>\n",
              "      <td>7560001</td>\n",
              "    </tr>\n",
              "    <tr>\n",
              "      <th>22</th>\n",
              "      <td>Month - 23</td>\n",
              "      <td>1887694</td>\n",
              "      <td>1992155</td>\n",
              "      <td>1348387</td>\n",
              "      <td>1459683</td>\n",
              "      <td>6687919</td>\n",
              "    </tr>\n",
              "    <tr>\n",
              "      <th>23</th>\n",
              "      <td>Month - 24</td>\n",
              "      <td>1880820</td>\n",
              "      <td>1752873</td>\n",
              "      <td>2098463</td>\n",
              "      <td>2052591</td>\n",
              "      <td>7784747</td>\n",
              "    </tr>\n",
              "    <tr>\n",
              "      <th>24</th>\n",
              "      <td>Month - 25</td>\n",
              "      <td>1256333</td>\n",
              "      <td>1622671</td>\n",
              "      <td>1521792</td>\n",
              "      <td>1695122</td>\n",
              "      <td>6095918</td>\n",
              "    </tr>\n",
              "    <tr>\n",
              "      <th>25</th>\n",
              "      <td>Month - 26</td>\n",
              "      <td>1422853</td>\n",
              "      <td>1715465</td>\n",
              "      <td>1853636</td>\n",
              "      <td>1520406</td>\n",
              "      <td>6512360</td>\n",
              "    </tr>\n",
              "    <tr>\n",
              "      <th>26</th>\n",
              "      <td>Month - 27</td>\n",
              "      <td>1384426</td>\n",
              "      <td>1983163</td>\n",
              "      <td>1611169</td>\n",
              "      <td>1289160</td>\n",
              "      <td>6267918</td>\n",
              "    </tr>\n",
              "    <tr>\n",
              "      <th>27</th>\n",
              "      <td>Month - 28</td>\n",
              "      <td>1616640</td>\n",
              "      <td>1547991</td>\n",
              "      <td>2128022</td>\n",
              "      <td>2178267</td>\n",
              "      <td>7470920</td>\n",
              "    </tr>\n",
              "    <tr>\n",
              "      <th>28</th>\n",
              "      <td>Month - 29</td>\n",
              "      <td>1310654</td>\n",
              "      <td>1660092</td>\n",
              "      <td>1947119</td>\n",
              "      <td>1854412</td>\n",
              "      <td>6772277</td>\n",
              "    </tr>\n",
              "  </tbody>\n",
              "</table>\n",
              "</div>\n",
              "      <button class=\"colab-df-convert\" onclick=\"convertToInteractive('df-24c93e7d-f5db-47a9-9092-4fa63f588ece')\"\n",
              "              title=\"Convert this dataframe to an interactive table.\"\n",
              "              style=\"display:none;\">\n",
              "        \n",
              "  <svg xmlns=\"http://www.w3.org/2000/svg\" height=\"24px\"viewBox=\"0 0 24 24\"\n",
              "       width=\"24px\">\n",
              "    <path d=\"M0 0h24v24H0V0z\" fill=\"none\"/>\n",
              "    <path d=\"M18.56 5.44l.94 2.06.94-2.06 2.06-.94-2.06-.94-.94-2.06-.94 2.06-2.06.94zm-11 1L8.5 8.5l.94-2.06 2.06-.94-2.06-.94L8.5 2.5l-.94 2.06-2.06.94zm10 10l.94 2.06.94-2.06 2.06-.94-2.06-.94-.94-2.06-.94 2.06-2.06.94z\"/><path d=\"M17.41 7.96l-1.37-1.37c-.4-.4-.92-.59-1.43-.59-.52 0-1.04.2-1.43.59L10.3 9.45l-7.72 7.72c-.78.78-.78 2.05 0 2.83L4 21.41c.39.39.9.59 1.41.59.51 0 1.02-.2 1.41-.59l7.78-7.78 2.81-2.81c.8-.78.8-2.07 0-2.86zM5.41 20L4 18.59l7.72-7.72 1.47 1.35L5.41 20z\"/>\n",
              "  </svg>\n",
              "      </button>\n",
              "      \n",
              "  <style>\n",
              "    .colab-df-container {\n",
              "      display:flex;\n",
              "      flex-wrap:wrap;\n",
              "      gap: 12px;\n",
              "    }\n",
              "\n",
              "    .colab-df-convert {\n",
              "      background-color: #E8F0FE;\n",
              "      border: none;\n",
              "      border-radius: 50%;\n",
              "      cursor: pointer;\n",
              "      display: none;\n",
              "      fill: #1967D2;\n",
              "      height: 32px;\n",
              "      padding: 0 0 0 0;\n",
              "      width: 32px;\n",
              "    }\n",
              "\n",
              "    .colab-df-convert:hover {\n",
              "      background-color: #E2EBFA;\n",
              "      box-shadow: 0px 1px 2px rgba(60, 64, 67, 0.3), 0px 1px 3px 1px rgba(60, 64, 67, 0.15);\n",
              "      fill: #174EA6;\n",
              "    }\n",
              "\n",
              "    [theme=dark] .colab-df-convert {\n",
              "      background-color: #3B4455;\n",
              "      fill: #D2E3FC;\n",
              "    }\n",
              "\n",
              "    [theme=dark] .colab-df-convert:hover {\n",
              "      background-color: #434B5C;\n",
              "      box-shadow: 0px 1px 3px 1px rgba(0, 0, 0, 0.15);\n",
              "      filter: drop-shadow(0px 1px 2px rgba(0, 0, 0, 0.3));\n",
              "      fill: #FFFFFF;\n",
              "    }\n",
              "  </style>\n",
              "\n",
              "      <script>\n",
              "        const buttonEl =\n",
              "          document.querySelector('#df-24c93e7d-f5db-47a9-9092-4fa63f588ece button.colab-df-convert');\n",
              "        buttonEl.style.display =\n",
              "          google.colab.kernel.accessAllowed ? 'block' : 'none';\n",
              "\n",
              "        async function convertToInteractive(key) {\n",
              "          const element = document.querySelector('#df-24c93e7d-f5db-47a9-9092-4fa63f588ece');\n",
              "          const dataTable =\n",
              "            await google.colab.kernel.invokeFunction('convertToInteractive',\n",
              "                                                     [key], {});\n",
              "          if (!dataTable) return;\n",
              "\n",
              "          const docLinkHtml = 'Like what you see? Visit the ' +\n",
              "            '<a target=\"_blank\" href=https://colab.research.google.com/notebooks/data_table.ipynb>data table notebook</a>'\n",
              "            + ' to learn more about interactive tables.';\n",
              "          element.innerHTML = '';\n",
              "          dataTable['output_type'] = 'display_data';\n",
              "          await google.colab.output.renderOutput(dataTable, element);\n",
              "          const docLink = document.createElement('div');\n",
              "          docLink.innerHTML = docLinkHtml;\n",
              "          element.appendChild(docLink);\n",
              "        }\n",
              "      </script>\n",
              "    </div>\n",
              "  </div>\n",
              "  "
            ],
            "text/plain": [
              "         Month  Zone - A  ...  Zone - D  Total sales per month of all zones\n",
              "0    Month - 1   1483525  ...   2267260                             7022544\n",
              "1    Month - 2   1238428  ...   1994341                             7152303\n",
              "2    Month - 3   1860771  ...   1241600                             6475939\n",
              "3    Month - 4   1871571  ...   2252681                             8174449\n",
              "4    Month - 5   1244922  ...   1326062                             5995328\n",
              "5    Month - 6   1534390  ...   2292044                             7151387\n",
              "6    Month - 7   1820196  ...   1688055                             7287108\n",
              "7    Month - 8   1625696  ...   2363315                             7816299\n",
              "8    Month - 9   1652644  ...   1422059                             6703395\n",
              "9   Month - 10   1852450  ...   1608387                             7128210\n",
              "10  Month - 11   2004480  ...   1970069                             7032783\n",
              "11  Month - 12   1537539  ...   1460165                             6111084\n",
              "12  Month - 13   1254939  ...   1733383                             5925424\n",
              "13  Month - 14   1821799  ...   1872259                             7155515\n",
              "14  Month - 15   1128185  ...   1234311                             5934156\n",
              "15  Month - 16   1491534  ...   1590913                             6506659\n",
              "16  Month - 17   1182110  ...   2180416                             7149383\n",
              "17  Month - 18   1770324  ...   2364132                             7083490\n",
              "18  Month - 19   1181635  ...   1821882                             6971953\n",
              "19  Month - 20   1305972  ...   2151008                             7124599\n",
              "20  Month - 21   1570152  ...   2265814                             7389597\n",
              "21  Month - 22   1481619  ...   2295079                             7560001\n",
              "22  Month - 23   1887694  ...   1459683                             6687919\n",
              "23  Month - 24   1880820  ...   2052591                             7784747\n",
              "24  Month - 25   1256333  ...   1695122                             6095918\n",
              "25  Month - 26   1422853  ...   1520406                             6512360\n",
              "26  Month - 27   1384426  ...   1289160                             6267918\n",
              "27  Month - 28   1616640  ...   2178267                             7470920\n",
              "28  Month - 29   1310654  ...   1854412                             6772277\n",
              "\n",
              "[29 rows x 6 columns]"
            ]
          },
          "metadata": {},
          "execution_count": 9
        }
      ]
    },
    {
      "cell_type": "code",
      "source": [
        "df1['Total sales per month of all zones'].max()"
      ],
      "metadata": {
        "colab": {
          "base_uri": "https://localhost:8080/"
        },
        "id": "NA2pVz3zJEZp",
        "outputId": "d6cc3d5f-9524-4ef7-c8bb-4733932d67bf"
      },
      "execution_count": 10,
      "outputs": [
        {
          "output_type": "execute_result",
          "data": {
            "text/plain": [
              "8174449"
            ]
          },
          "metadata": {},
          "execution_count": 10
        }
      ]
    },
    {
      "cell_type": "code",
      "source": [
        "df1['Total sales per month of all zones'].min()\n"
      ],
      "metadata": {
        "colab": {
          "base_uri": "https://localhost:8080/"
        },
        "id": "TH36TVLLJHx5",
        "outputId": "c6c2d4b0-cd0f-47ec-c176-4c9eee9d4573"
      },
      "execution_count": 11,
      "outputs": [
        {
          "output_type": "execute_result",
          "data": {
            "text/plain": [
              "5925424"
            ]
          },
          "metadata": {},
          "execution_count": 11
        }
      ]
    },
    {
      "cell_type": "markdown",
      "source": [
        "\n",
        "**3. Check whether all the zones generate the same amount of sales.**"
      ],
      "metadata": {
        "id": "hrTmXfFiJI8F"
      }
    },
    {
      "cell_type": "code",
      "source": [
        "from scipy.stats import f_oneway\n",
        "\n",
        "#perform one-way ANOVA\n",
        "f_oneway(df['Zone - A'], df['Zone - B'], df['Zone - C'],df['Zone - D'])"
      ],
      "metadata": {
        "colab": {
          "base_uri": "https://localhost:8080/"
        },
        "id": "9ghDbQk9JNhK",
        "outputId": "1f238629-466e-4faa-adfe-3fbbe7693a98"
      },
      "execution_count": 12,
      "outputs": [
        {
          "output_type": "execute_result",
          "data": {
            "text/plain": [
              "F_onewayResult(statistic=5.672056106843581, pvalue=0.0011827601694503335)"
            ]
          },
          "metadata": {},
          "execution_count": 12
        }
      ]
    },
    {
      "cell_type": "code",
      "source": [
        "df.boxplot(column=['Zone - A','Zone - B','Zone - C','Zone - D'], figsize=(12, 8), showmeans=True)\n"
      ],
      "metadata": {
        "colab": {
          "base_uri": "https://localhost:8080/",
          "height": 511
        },
        "id": "ZS34lDhqJUtW",
        "outputId": "42edaa03-ceec-475f-f335-c179b5eee5e1"
      },
      "execution_count": 13,
      "outputs": [
        {
          "output_type": "execute_result",
          "data": {
            "text/plain": [
              "<matplotlib.axes._subplots.AxesSubplot at 0x7f364482d690>"
            ]
          },
          "metadata": {},
          "execution_count": 13
        },
        {
          "output_type": "display_data",
          "data": {
            "image/png": "[encoded data removed]",
            "text/plain": [
              "<Figure size 864x576 with 1 Axes>"
            ]
          },
          "metadata": {
            "needs_background": "light"
          }
        }
      ]
    },
    {
      "cell_type": "markdown",
      "source": [
        "**The sales Zone A sales is  different when compared to that of Zone B, Zone C and Zone D since the median of Zone A lies outside the boxes of Zone B, Zone C and Zone  D.**"
      ],
      "metadata": {
        "id": "I70XVfFVJcp-"
      }
    }
  ]
}